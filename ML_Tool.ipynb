{
 "cells": [
  {
   "cell_type": "markdown",
   "id": "67e46454",
   "metadata": {},
   "source": [
    "### US-01\n",
    "Ensure jupyter notebook has python3.x \n"
   ]
  },
  {
   "cell_type": "code",
   "execution_count": 1,
   "id": "505d9fb6-dec4-4ed3-8fa2-2c2cfbd5ff01",
   "metadata": {},
   "outputs": [
    {
     "name": "stdout",
     "output_type": "stream",
     "text": [
      "3.8.10\n"
     ]
    }
   ],
   "source": [
    "from platform import python_version\n",
    "\n",
    "print(python_version())"
   ]
  },
  {
   "cell_type": "markdown",
   "id": "bcfd116b-ac81-4726-bd66-06e86c940ef6",
   "metadata": {},
   "source": [
    "### Installing Dependencies\n"
   ]
  },
  {
   "cell_type": "code",
   "execution_count": 2,
   "id": "f59cb734-9a3e-4927-951b-34f48710f156",
   "metadata": {
    "collapsed": true,
    "jupyter": {
     "outputs_hidden": true
    },
    "tags": []
   },
   "outputs": [
    {
     "name": "stdout",
     "output_type": "stream",
     "text": [
      "Looking in links: https://download.pytorch.org/ehl/torch_stable.html\n",
      "Requirement already satisfied: torch==1.10.1 in c:\\users\\rcwww\\desktop\\y3t1\\ict3104-software-management\\project\\t01-nvidia-jupyternotebookenv\\venv_382\\lib\\site-packages (1.10.1)\n",
      "Requirement already satisfied: torchvision==0.11.2 in c:\\users\\rcwww\\desktop\\y3t1\\ict3104-software-management\\project\\t01-nvidia-jupyternotebookenv\\venv_382\\lib\\site-packages (0.11.2)\n",
      "Requirement already satisfied: torchaudio==0.10.1 in c:\\users\\rcwww\\desktop\\y3t1\\ict3104-software-management\\project\\t01-nvidia-jupyternotebookenv\\venv_382\\lib\\site-packages (0.10.1)\n",
      "Requirement already satisfied: typing-extensions in c:\\users\\rcwww\\desktop\\y3t1\\ict3104-software-management\\project\\t01-nvidia-jupyternotebookenv\\venv_382\\lib\\site-packages (from torch==1.10.1) (4.3.0)\n",
      "Requirement already satisfied: pillow!=8.3.0,>=5.3.0 in c:\\users\\rcwww\\desktop\\y3t1\\ict3104-software-management\\project\\t01-nvidia-jupyternotebookenv\\venv_382\\lib\\site-packages (from torchvision==0.11.2) (9.2.0)\n",
      "Requirement already satisfied: numpy in c:\\users\\rcwww\\desktop\\y3t1\\ict3104-software-management\\project\\t01-nvidia-jupyternotebookenv\\venv_382\\lib\\site-packages (from torchvision==0.11.2) (1.23.3)\n",
      "Note: you may need to restart the kernel to use updated packages.\n"
     ]
    },
    {
     "name": "stderr",
     "output_type": "stream",
     "text": [
      "WARNING: You are using pip version 21.1.1; however, version 22.2.2 is available.\n",
      "You should consider upgrading via the 'c:\\users\\rcwww\\desktop\\y3t1\\ict3104-software-management\\project\\t01-nvidia-jupyternotebookenv\\venv_382\\scripts\\python.exe -m pip install --upgrade pip' command.\n"
     ]
    },
    {
     "name": "stdout",
     "output_type": "stream",
     "text": [
      "Requirement already satisfied: timm==0.4.12 in c:\\users\\rcwww\\desktop\\y3t1\\ict3104-software-management\\project\\t01-nvidia-jupyternotebookenv\\venv_382\\lib\\site-packages (0.4.12)\n",
      "Requirement already satisfied: torchvision in c:\\users\\rcwww\\desktop\\y3t1\\ict3104-software-management\\project\\t01-nvidia-jupyternotebookenv\\venv_382\\lib\\site-packages (from timm==0.4.12) (0.11.2)\n",
      "Requirement already satisfied: torch>=1.4 in c:\\users\\rcwww\\desktop\\y3t1\\ict3104-software-management\\project\\t01-nvidia-jupyternotebookenv\\venv_382\\lib\\site-packages (from timm==0.4.12) (1.10.1)\n",
      "Requirement already satisfied: typing-extensions in c:\\users\\rcwww\\desktop\\y3t1\\ict3104-software-management\\project\\t01-nvidia-jupyternotebookenv\\venv_382\\lib\\site-packages (from torch>=1.4->timm==0.4.12) (4.3.0)\n",
      "Requirement already satisfied: numpy in c:\\users\\rcwww\\desktop\\y3t1\\ict3104-software-management\\project\\t01-nvidia-jupyternotebookenv\\venv_382\\lib\\site-packages (from torchvision->timm==0.4.12) (1.23.3)\n",
      "Requirement already satisfied: pillow!=8.3.0,>=5.3.0 in c:\\users\\rcwww\\desktop\\y3t1\\ict3104-software-management\\project\\t01-nvidia-jupyternotebookenv\\venv_382\\lib\\site-packages (from torchvision->timm==0.4.12) (9.2.0)\n",
      "Note: you may need to restart the kernel to use updated packages.\n"
     ]
    },
    {
     "name": "stderr",
     "output_type": "stream",
     "text": [
      "WARNING: You are using pip version 21.1.1; however, version 22.2.2 is available.\n",
      "You should consider upgrading via the 'c:\\users\\rcwww\\desktop\\y3t1\\ict3104-software-management\\project\\t01-nvidia-jupyternotebookenv\\venv_382\\scripts\\python.exe -m pip install --upgrade pip' command.\n"
     ]
    },
    {
     "name": "stdout",
     "output_type": "stream",
     "text": [
      "Requirement already satisfied: scikit-learn in c:\\users\\rcwww\\desktop\\y3t1\\ict3104-software-management\\project\\t01-nvidia-jupyternotebookenv\\venv_382\\lib\\site-packages (1.1.2)\n",
      "Requirement already satisfied: scipy>=1.3.2 in c:\\users\\rcwww\\desktop\\y3t1\\ict3104-software-management\\project\\t01-nvidia-jupyternotebookenv\\venv_382\\lib\\site-packages (from scikit-learn) (1.9.1)\n",
      "Requirement already satisfied: joblib>=1.0.0 in c:\\users\\rcwww\\desktop\\y3t1\\ict3104-software-management\\project\\t01-nvidia-jupyternotebookenv\\venv_382\\lib\\site-packages (from scikit-learn) (1.1.0)\n",
      "Requirement already satisfied: numpy>=1.17.3 in c:\\users\\rcwww\\desktop\\y3t1\\ict3104-software-management\\project\\t01-nvidia-jupyternotebookenv\\venv_382\\lib\\site-packages (from scikit-learn) (1.23.3)\n",
      "Requirement already satisfied: threadpoolctl>=2.0.0 in c:\\users\\rcwww\\desktop\\y3t1\\ict3104-software-management\\project\\t01-nvidia-jupyternotebookenv\\venv_382\\lib\\site-packages (from scikit-learn) (3.1.0)\n",
      "Note: you may need to restart the kernel to use updated packages.\n"
     ]
    },
    {
     "name": "stderr",
     "output_type": "stream",
     "text": [
      "WARNING: You are using pip version 21.1.1; however, version 22.2.2 is available.\n",
      "You should consider upgrading via the 'c:\\users\\rcwww\\desktop\\y3t1\\ict3104-software-management\\project\\t01-nvidia-jupyternotebookenv\\venv_382\\scripts\\python.exe -m pip install --upgrade pip' command.\n"
     ]
    },
    {
     "name": "stdout",
     "output_type": "stream",
     "text": [
      "Requirement already satisfied: numpy in c:\\users\\rcwww\\desktop\\y3t1\\ict3104-software-management\\project\\t01-nvidia-jupyternotebookenv\\venv_382\\lib\\site-packages (1.23.3)Note: you may need to restart the kernel to use updated packages.\n",
      "\n"
     ]
    },
    {
     "name": "stderr",
     "output_type": "stream",
     "text": [
      "WARNING: You are using pip version 21.1.1; however, version 22.2.2 is available.\n",
      "You should consider upgrading via the 'c:\\users\\rcwww\\desktop\\y3t1\\ict3104-software-management\\project\\t01-nvidia-jupyternotebookenv\\venv_382\\scripts\\python.exe -m pip install --upgrade pip' command.\n"
     ]
    }
   ],
   "source": [
    "%pip install torch==1.10.1 torchvision==0.11.2 torchaudio==0.10.1 -f https://download.pytorch.org/ehl/torch_stable.html\n",
    "%pip install timm==0.4.12\n",
    "%pip install scikit-learn\n",
    "%pip install numpy"
   ]
  },
  {
   "cell_type": "code",
   "execution_count": 3,
   "id": "74debddd-686f-4b5e-beed-8bec6861c20a",
   "metadata": {
    "collapsed": true,
    "jupyter": {
     "outputs_hidden": true
    },
    "tags": []
   },
   "outputs": [
    {
     "name": "stdout",
     "output_type": "stream",
     "text": [
      "Requirement already satisfied: ipywidgets in c:\\users\\rcwww\\desktop\\y3t1\\ict3104-software-management\\project\\t01-nvidia-jupyternotebookenv\\venv_382\\lib\\site-packages (8.0.2)\n",
      "Requirement already satisfied: ipython>=6.1.0 in c:\\users\\rcwww\\desktop\\y3t1\\ict3104-software-management\\project\\t01-nvidia-jupyternotebookenv\\venv_382\\lib\\site-packages (from ipywidgets) (8.5.0)\n",
      "Requirement already satisfied: traitlets>=4.3.1 in c:\\users\\rcwww\\desktop\\y3t1\\ict3104-software-management\\project\\t01-nvidia-jupyternotebookenv\\venv_382\\lib\\site-packages (from ipywidgets) (5.3.0)\n",
      "Requirement already satisfied: jupyterlab-widgets~=3.0 in c:\\users\\rcwww\\desktop\\y3t1\\ict3104-software-management\\project\\t01-nvidia-jupyternotebookenv\\venv_382\\lib\\site-packages (from ipywidgets) (3.0.3)\n",
      "Requirement already satisfied: ipykernel>=4.5.1 in c:\\users\\rcwww\\desktop\\y3t1\\ict3104-software-management\\project\\t01-nvidia-jupyternotebookenv\\venv_382\\lib\\site-packages (from ipywidgets) (6.15.2)\n",
      "Requirement already satisfied: widgetsnbextension~=4.0 in c:\\users\\rcwww\\desktop\\y3t1\\ict3104-software-management\\project\\t01-nvidia-jupyternotebookenv\\venv_382\\lib\\site-packages (from ipywidgets) (4.0.3)\n",
      "Requirement already satisfied: matplotlib-inline>=0.1 in c:\\users\\rcwww\\desktop\\y3t1\\ict3104-software-management\\project\\t01-nvidia-jupyternotebookenv\\venv_382\\lib\\site-packages (from ipykernel>=4.5.1->ipywidgets) (0.1.6)\n",
      "Requirement already satisfied: packaging in c:\\users\\rcwww\\desktop\\y3t1\\ict3104-software-management\\project\\t01-nvidia-jupyternotebookenv\\venv_382\\lib\\site-packages (from ipykernel>=4.5.1->ipywidgets) (21.3)\n",
      "Requirement already satisfied: psutil in c:\\users\\rcwww\\desktop\\y3t1\\ict3104-software-management\\project\\t01-nvidia-jupyternotebookenv\\venv_382\\lib\\site-packages (from ipykernel>=4.5.1->ipywidgets) (5.9.2)\n",
      "Requirement already satisfied: tornado>=6.1 in c:\\users\\rcwww\\desktop\\y3t1\\ict3104-software-management\\project\\t01-nvidia-jupyternotebookenv\\venv_382\\lib\\site-packages (from ipykernel>=4.5.1->ipywidgets) (6.2)\n",
      "Requirement already satisfied: jupyter-client>=6.1.12 in c:\\users\\rcwww\\desktop\\y3t1\\ict3104-software-management\\project\\t01-nvidia-jupyternotebookenv\\venv_382\\lib\\site-packages (from ipykernel>=4.5.1->ipywidgets) (7.3.5)\n",
      "Requirement already satisfied: debugpy>=1.0 in c:\\users\\rcwww\\desktop\\y3t1\\ict3104-software-management\\project\\t01-nvidia-jupyternotebookenv\\venv_382\\lib\\site-packages (from ipykernel>=4.5.1->ipywidgets) (1.6.3)\n",
      "Requirement already satisfied: nest-asyncio in c:\\users\\rcwww\\desktop\\y3t1\\ict3104-software-management\\project\\t01-nvidia-jupyternotebookenv\\venv_382\\lib\\site-packages (from ipykernel>=4.5.1->ipywidgets) (1.5.5)\n",
      "Requirement already satisfied: pyzmq>=17 in c:\\users\\rcwww\\desktop\\y3t1\\ict3104-software-management\\project\\t01-nvidia-jupyternotebookenv\\venv_382\\lib\\site-packages (from ipykernel>=4.5.1->ipywidgets) (23.2.1)\n",
      "Requirement already satisfied: backcall in c:\\users\\rcwww\\desktop\\y3t1\\ict3104-software-management\\project\\t01-nvidia-jupyternotebookenv\\venv_382\\lib\\site-packages (from ipython>=6.1.0->ipywidgets) (0.2.0)\n",
      "Requirement already satisfied: stack-data in c:\\users\\rcwww\\desktop\\y3t1\\ict3104-software-management\\project\\t01-nvidia-jupyternotebookenv\\venv_382\\lib\\site-packages (from ipython>=6.1.0->ipywidgets) (0.5.0)\n",
      "Requirement already satisfied: pygments>=2.4.0 in c:\\users\\rcwww\\desktop\\y3t1\\ict3104-software-management\\project\\t01-nvidia-jupyternotebookenv\\venv_382\\lib\\site-packages (from ipython>=6.1.0->ipywidgets) (2.13.0)\n",
      "Requirement already satisfied: pickleshare in c:\\users\\rcwww\\desktop\\y3t1\\ict3104-software-management\\project\\t01-nvidia-jupyternotebookenv\\venv_382\\lib\\site-packages (from ipython>=6.1.0->ipywidgets) (0.7.5)\n",
      "Requirement already satisfied: decorator in c:\\users\\rcwww\\desktop\\y3t1\\ict3104-software-management\\project\\t01-nvidia-jupyternotebookenv\\venv_382\\lib\\site-packages (from ipython>=6.1.0->ipywidgets) (5.1.1)\n",
      "Requirement already satisfied: colorama in c:\\users\\rcwww\\desktop\\y3t1\\ict3104-software-management\\project\\t01-nvidia-jupyternotebookenv\\venv_382\\lib\\site-packages (from ipython>=6.1.0->ipywidgets) (0.4.5)\n",
      "Requirement already satisfied: prompt-toolkit<3.1.0,>3.0.1 in c:\\users\\rcwww\\desktop\\y3t1\\ict3104-software-management\\project\\t01-nvidia-jupyternotebookenv\\venv_382\\lib\\site-packages (from ipython>=6.1.0->ipywidgets) (3.0.31)\n",
      "Requirement already satisfied: jedi>=0.16 in c:\\users\\rcwww\\desktop\\y3t1\\ict3104-software-management\\project\\t01-nvidia-jupyternotebookenv\\venv_382\\lib\\site-packages (from ipython>=6.1.0->ipywidgets) (0.18.1)\n",
      "Requirement already satisfied: parso<0.9.0,>=0.8.0 in c:\\users\\rcwww\\desktop\\y3t1\\ict3104-software-management\\project\\t01-nvidia-jupyternotebookenv\\venv_382\\lib\\site-packages (from jedi>=0.16->ipython>=6.1.0->ipywidgets) (0.8.3)\n",
      "Requirement already satisfied: jupyter-core>=4.9.2 in c:\\users\\rcwww\\desktop\\y3t1\\ict3104-software-management\\project\\t01-nvidia-jupyternotebookenv\\venv_382\\lib\\site-packages (from jupyter-client>=6.1.12->ipykernel>=4.5.1->ipywidgets) (4.11.1)\n",
      "Requirement already satisfied: entrypoints in c:\\users\\rcwww\\desktop\\y3t1\\ict3104-software-management\\project\\t01-nvidia-jupyternotebookenv\\venv_382\\lib\\site-packages (from jupyter-client>=6.1.12->ipykernel>=4.5.1->ipywidgets) (0.4)\n",
      "Requirement already satisfied: python-dateutil>=2.8.2 in c:\\users\\rcwww\\desktop\\y3t1\\ict3104-software-management\\project\\t01-nvidia-jupyternotebookenv\\venv_382\\lib\\site-packages (from jupyter-client>=6.1.12->ipykernel>=4.5.1->ipywidgets) (2.8.2)\n",
      "Requirement already satisfied: pywin32>=1.0 in c:\\users\\rcwww\\desktop\\y3t1\\ict3104-software-management\\project\\t01-nvidia-jupyternotebookenv\\venv_382\\lib\\site-packages (from jupyter-core>=4.9.2->jupyter-client>=6.1.12->ipykernel>=4.5.1->ipywidgets) (304)\n",
      "Requirement already satisfied: wcwidth in c:\\users\\rcwww\\desktop\\y3t1\\ict3104-software-management\\project\\t01-nvidia-jupyternotebookenv\\venv_382\\lib\\site-packages (from prompt-toolkit<3.1.0,>3.0.1->ipython>=6.1.0->ipywidgets) (0.2.5)\n",
      "Requirement already satisfied: six>=1.5 in c:\\users\\rcwww\\desktop\\y3t1\\ict3104-software-management\\project\\t01-nvidia-jupyternotebookenv\\venv_382\\lib\\site-packages (from python-dateutil>=2.8.2->jupyter-client>=6.1.12->ipykernel>=4.5.1->ipywidgets) (1.16.0)\n",
      "Requirement already satisfied: pyparsing!=3.0.5,>=2.0.2 in c:\\users\\rcwww\\desktop\\y3t1\\ict3104-software-management\\project\\t01-nvidia-jupyternotebookenv\\venv_382\\lib\\site-packages (from packaging->ipykernel>=4.5.1->ipywidgets) (3.0.9)\n",
      "Requirement already satisfied: executing in c:\\users\\rcwww\\desktop\\y3t1\\ict3104-software-management\\project\\t01-nvidia-jupyternotebookenv\\venv_382\\lib\\site-packages (from stack-data->ipython>=6.1.0->ipywidgets) (1.0.0)\n",
      "Requirement already satisfied: pure-eval in c:\\users\\rcwww\\desktop\\y3t1\\ict3104-software-management\\project\\t01-nvidia-jupyternotebookenv\\venv_382\\lib\\site-packages (from stack-data->ipython>=6.1.0->ipywidgets) (0.2.2)\n",
      "Requirement already satisfied: asttokens in c:\\users\\rcwww\\desktop\\y3t1\\ict3104-software-management\\project\\t01-nvidia-jupyternotebookenv\\venv_382\\lib\\site-packages (from stack-data->ipython>=6.1.0->ipywidgets) (2.0.8)\n",
      "Note: you may need to restart the kernel to use updated packages.\n"
     ]
    },
    {
     "name": "stderr",
     "output_type": "stream",
     "text": [
      "WARNING: You are using pip version 21.1.1; however, version 22.2.2 is available.\n",
      "You should consider upgrading via the 'c:\\users\\rcwww\\desktop\\y3t1\\ict3104-software-management\\project\\t01-nvidia-jupyternotebookenv\\venv_382\\scripts\\python.exe -m pip install --upgrade pip' command.\n"
     ]
    }
   ],
   "source": [
    "%pip install ipywidgets"
   ]
  },
  {
   "cell_type": "code",
   "execution_count": 7,
   "id": "c44a2e7f-1951-4e43-802f-a2db436e5101",
   "metadata": {
    "collapsed": true,
    "jupyter": {
     "outputs_hidden": true
    },
    "tags": []
   },
   "outputs": [
    {
     "name": "stdout",
     "output_type": "stream",
     "text": [
      "Requirement already satisfied: tqdm in c:\\users\\rcwww\\desktop\\y3t1\\ict3104-software-management\\project\\t01-nvidia-jupyternotebookenv\\venv_382\\lib\\site-packages (4.64.1)\n",
      "Requirement already satisfied: colorama in c:\\users\\rcwww\\desktop\\y3t1\\ict3104-software-management\\project\\t01-nvidia-jupyternotebookenv\\venv_382\\lib\\site-packages (from tqdm) (0.4.5)\n",
      "Note: you may need to restart the kernel to use updated packages.\n"
     ]
    },
    {
     "name": "stderr",
     "output_type": "stream",
     "text": [
      "WARNING: You are using pip version 21.1.1; however, version 22.2.2 is available.\n",
      "You should consider upgrading via the 'c:\\users\\rcwww\\desktop\\y3t1\\ict3104-software-management\\project\\t01-nvidia-jupyternotebookenv\\venv_382\\scripts\\python.exe -m pip install --upgrade pip' command.\n"
     ]
    }
   ],
   "source": [
    "%pip install tqdm"
   ]
  },
  {
   "cell_type": "markdown",
   "id": "a7fadfc0-0020-455b-b1e6-910a8b72209c",
   "metadata": {},
   "source": [
    "### Dependencies and Setup"
   ]
  },
  {
   "cell_type": "code",
   "execution_count": 1,
   "id": "fa7d1a5b-c24b-4b2a-9081-4f0a1c504a8f",
   "metadata": {},
   "outputs": [
    {
     "name": "stdout",
     "output_type": "stream",
     "text": [
      "1.10.1+cpu\n"
     ]
    }
   ],
   "source": [
    "import torch\n",
    "import os\n",
    "import ipywidgets as widgets\n",
    "from subprocess import Popen\n",
    "print(torch.__version__)"
   ]
  },
  {
   "cell_type": "markdown",
   "id": "466be9d9-ac20-4e39-ae5d-a850d22a8220",
   "metadata": {},
   "source": [
    "### US-06\n",
    "Loading a model\n"
   ]
  },
  {
   "cell_type": "code",
   "execution_count": 2,
   "id": "dbe03f58-fa83-425a-9660-7c2dbec9cb10",
   "metadata": {
    "tags": []
   },
   "outputs": [
    {
     "data": {
      "application/vnd.jupyter.widget-view+json": {
       "model_id": "6cf7538290dc445b9197f5e9937379a7",
       "version_major": 2,
       "version_minor": 0
      },
      "text/plain": [
       "Dropdown(description='Choose Model', options=('PDAN_TSU_RGB', 'test1', 'test2'), value='PDAN_TSU_RGB')"
      ]
     },
     "execution_count": 2,
     "metadata": {},
     "output_type": "execute_result"
    }
   ],
   "source": [
    "mylist = os.listdir(\"trained_model\")\n",
    "selectedModel = widgets.Dropdown(\n",
    "    options=mylist,\n",
    "    value = mylist[0],\n",
    "    description = 'Choose Model',\n",
    "    disabled=False\n",
    ")\n",
    "selectedModel"
   ]
  },
  {
   "cell_type": "code",
   "execution_count": 5,
   "id": "e25231ed-4120-4513-aa37-804699d2246f",
   "metadata": {},
   "outputs": [
    {
     "name": "stdout",
     "output_type": "stream",
     "text": [
      "v16.17.0\n"
     ]
    }
   ],
   "source": [
    "# make tsu input dynamic"
   ]
  },
  {
   "cell_type": "code",
   "execution_count": 3,
   "id": "eb1c27ed-5275-4dd5-b8a5-cb759ca12a1d",
   "metadata": {},
   "outputs": [
    {
     "data": {
      "application/vnd.jupyter.widget-view+json": {
       "model_id": "6cf7538290dc445b9197f5e9937379a7",
       "version_major": 2,
       "version_minor": 0
      },
      "text/plain": [
       "Dropdown(description='Choose Model', options=('PDAN_TSU_RGB', 'test1', 'test2'), value='PDAN_TSU_RGB')"
      ]
     },
     "execution_count": 3,
     "metadata": {},
     "output_type": "execute_result"
    }
   ],
   "source": [
    "selectedModel.value\n",
    "#selectedModel = \"PDAN_TSU_RGB\"\n",
    "selectedModel"
   ]
  },
  {
   "cell_type": "code",
   "execution_count": 23,
   "id": "06c81d0e-4bc5-4ae4-b28b-e85e974714fb",
   "metadata": {},
   "outputs": [],
   "source": [
    "#linux\n",
    "Process=Popen(\"Toyota_Smarthome/pipline/run_PDAN.sh %s\" % (str(selectedModel)), shell=True)\n",
    "#!./Toyota_Smarthome/pipline/run_PDAN.sh selectedModel"
   ]
  }
 ],
 "metadata": {
  "kernelspec": {
   "display_name": "Python 3 (ipykernel)",
   "language": "python",
   "name": "python3"
  },
  "language_info": {
   "codemirror_mode": {
    "name": "ipython",
    "version": 3
   },
   "file_extension": ".py",
   "mimetype": "text/x-python",
   "name": "python",
   "nbconvert_exporter": "python",
   "pygments_lexer": "ipython3",
   "version": "3.8.10"
  }
 },
 "nbformat": 4,
 "nbformat_minor": 5
}
