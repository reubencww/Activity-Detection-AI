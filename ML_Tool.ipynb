{
 "cells": [
  {
   "cell_type": "markdown",
   "id": "f22876b2",
   "metadata": {},
   "source": [
    "# ML TOOL \n",
    "\n",
    "<span> A jupyter notebook tool to aid the testing of machine learning (ML) models in the domain of activity detection.  </span>"
   ]
  },
  {
   "cell_type": "markdown",
   "id": "069e892b",
   "metadata": {},
   "source": [
    "## 1. Set Up Jupyter NoteBook\n",
    "<span style='background :yellow' > **US-01**</span> - Ensure jupyter notebook has python3.x "
   ]
  },
  {
   "cell_type": "code",
   "execution_count": 1,
   "id": "505d9fb6-dec4-4ed3-8fa2-2c2cfbd5ff01",
   "metadata": {},
   "outputs": [
    {
     "name": "stdout",
     "output_type": "stream",
     "text": [
      "3.8.10\n"
     ]
    }
   ],
   "source": [
    "from platform import python_version\n",
    "\n",
    "print(python_version())"
   ]
  },
  {
   "cell_type": "markdown",
   "id": "bcfd116b-ac81-4726-bd66-06e86c940ef6",
   "metadata": {},
   "source": [
    "### 1.1 Installing Dependencies\n"
   ]
  },
  {
   "cell_type": "code",
   "execution_count": 2,
   "id": "f59cb734-9a3e-4927-951b-34f48710f156",
   "metadata": {
    "collapsed": true,
    "jupyter": {
     "outputs_hidden": true
    },
    "tags": []
   },
   "outputs": [
    {
     "name": "stdout",
     "output_type": "stream",
     "text": [
      "Looking in links: https://download.pytorch.org/ehl/torch_stable.html\n",
      "Requirement already satisfied: torch==1.10.1 in c:\\users\\rcwww\\desktop\\y3t1\\ict3104-software-management\\project\\t01-nvidia-jupyternotebookenv\\venv_382\\lib\\site-packages (1.10.1)\n",
      "Requirement already satisfied: torchvision==0.11.2 in c:\\users\\rcwww\\desktop\\y3t1\\ict3104-software-management\\project\\t01-nvidia-jupyternotebookenv\\venv_382\\lib\\site-packages (0.11.2)\n",
      "Requirement already satisfied: torchaudio==0.10.1 in c:\\users\\rcwww\\desktop\\y3t1\\ict3104-software-management\\project\\t01-nvidia-jupyternotebookenv\\venv_382\\lib\\site-packages (0.10.1)\n",
      "Requirement already satisfied: typing-extensions in c:\\users\\rcwww\\desktop\\y3t1\\ict3104-software-management\\project\\t01-nvidia-jupyternotebookenv\\venv_382\\lib\\site-packages (from torch==1.10.1) (4.3.0)\n",
      "Requirement already satisfied: pillow!=8.3.0,>=5.3.0 in c:\\users\\rcwww\\desktop\\y3t1\\ict3104-software-management\\project\\t01-nvidia-jupyternotebookenv\\venv_382\\lib\\site-packages (from torchvision==0.11.2) (9.2.0)\n",
      "Requirement already satisfied: numpy in c:\\users\\rcwww\\desktop\\y3t1\\ict3104-software-management\\project\\t01-nvidia-jupyternotebookenv\\venv_382\\lib\\site-packages (from torchvision==0.11.2) (1.23.3)\n",
      "Note: you may need to restart the kernel to use updated packages.\n"
     ]
    },
    {
     "name": "stderr",
     "output_type": "stream",
     "text": [
      "WARNING: You are using pip version 21.1.1; however, version 22.2.2 is available.\n",
      "You should consider upgrading via the 'c:\\users\\rcwww\\desktop\\y3t1\\ict3104-software-management\\project\\t01-nvidia-jupyternotebookenv\\venv_382\\scripts\\python.exe -m pip install --upgrade pip' command.\n"
     ]
    },
    {
     "name": "stdout",
     "output_type": "stream",
     "text": [
      "Requirement already satisfied: timm==0.4.12 in c:\\users\\rcwww\\desktop\\y3t1\\ict3104-software-management\\project\\t01-nvidia-jupyternotebookenv\\venv_382\\lib\\site-packages (0.4.12)\n",
      "Requirement already satisfied: torchvision in c:\\users\\rcwww\\desktop\\y3t1\\ict3104-software-management\\project\\t01-nvidia-jupyternotebookenv\\venv_382\\lib\\site-packages (from timm==0.4.12) (0.11.2)\n",
      "Requirement already satisfied: torch>=1.4 in c:\\users\\rcwww\\desktop\\y3t1\\ict3104-software-management\\project\\t01-nvidia-jupyternotebookenv\\venv_382\\lib\\site-packages (from timm==0.4.12) (1.10.1)\n",
      "Requirement already satisfied: typing-extensions in c:\\users\\rcwww\\desktop\\y3t1\\ict3104-software-management\\project\\t01-nvidia-jupyternotebookenv\\venv_382\\lib\\site-packages (from torch>=1.4->timm==0.4.12) (4.3.0)\n",
      "Requirement already satisfied: numpy in c:\\users\\rcwww\\desktop\\y3t1\\ict3104-software-management\\project\\t01-nvidia-jupyternotebookenv\\venv_382\\lib\\site-packages (from torchvision->timm==0.4.12) (1.23.3)\n",
      "Requirement already satisfied: pillow!=8.3.0,>=5.3.0 in c:\\users\\rcwww\\desktop\\y3t1\\ict3104-software-management\\project\\t01-nvidia-jupyternotebookenv\\venv_382\\lib\\site-packages (from torchvision->timm==0.4.12) (9.2.0)\n",
      "Note: you may need to restart the kernel to use updated packages.\n"
     ]
    },
    {
     "name": "stderr",
     "output_type": "stream",
     "text": [
      "WARNING: You are using pip version 21.1.1; however, version 22.2.2 is available.\n",
      "You should consider upgrading via the 'c:\\users\\rcwww\\desktop\\y3t1\\ict3104-software-management\\project\\t01-nvidia-jupyternotebookenv\\venv_382\\scripts\\python.exe -m pip install --upgrade pip' command.\n"
     ]
    },
    {
     "name": "stdout",
     "output_type": "stream",
     "text": [
      "Requirement already satisfied: scikit-learn in c:\\users\\rcwww\\desktop\\y3t1\\ict3104-software-management\\project\\t01-nvidia-jupyternotebookenv\\venv_382\\lib\\site-packages (1.1.2)\n",
      "Requirement already satisfied: scipy>=1.3.2 in c:\\users\\rcwww\\desktop\\y3t1\\ict3104-software-management\\project\\t01-nvidia-jupyternotebookenv\\venv_382\\lib\\site-packages (from scikit-learn) (1.9.1)\n",
      "Requirement already satisfied: joblib>=1.0.0 in c:\\users\\rcwww\\desktop\\y3t1\\ict3104-software-management\\project\\t01-nvidia-jupyternotebookenv\\venv_382\\lib\\site-packages (from scikit-learn) (1.1.0)\n",
      "Requirement already satisfied: numpy>=1.17.3 in c:\\users\\rcwww\\desktop\\y3t1\\ict3104-software-management\\project\\t01-nvidia-jupyternotebookenv\\venv_382\\lib\\site-packages (from scikit-learn) (1.23.3)\n",
      "Requirement already satisfied: threadpoolctl>=2.0.0 in c:\\users\\rcwww\\desktop\\y3t1\\ict3104-software-management\\project\\t01-nvidia-jupyternotebookenv\\venv_382\\lib\\site-packages (from scikit-learn) (3.1.0)\n",
      "Note: you may need to restart the kernel to use updated packages.\n"
     ]
    },
    {
     "name": "stderr",
     "output_type": "stream",
     "text": [
      "WARNING: You are using pip version 21.1.1; however, version 22.2.2 is available.\n",
      "You should consider upgrading via the 'c:\\users\\rcwww\\desktop\\y3t1\\ict3104-software-management\\project\\t01-nvidia-jupyternotebookenv\\venv_382\\scripts\\python.exe -m pip install --upgrade pip' command.\n"
     ]
    },
    {
     "name": "stdout",
     "output_type": "stream",
     "text": [
      "Requirement already satisfied: numpy in c:\\users\\rcwww\\desktop\\y3t1\\ict3104-software-management\\project\\t01-nvidia-jupyternotebookenv\\venv_382\\lib\\site-packages (1.23.3)Note: you may need to restart the kernel to use updated packages.\n",
      "\n"
     ]
    },
    {
     "name": "stderr",
     "output_type": "stream",
     "text": [
      "WARNING: You are using pip version 21.1.1; however, version 22.2.2 is available.\n",
      "You should consider upgrading via the 'c:\\users\\rcwww\\desktop\\y3t1\\ict3104-software-management\\project\\t01-nvidia-jupyternotebookenv\\venv_382\\scripts\\python.exe -m pip install --upgrade pip' command.\n"
     ]
    }
   ],
   "source": [
    "%pip install torch==1.10.1 torchvision==0.11.2 torchaudio==0.10.1 -f https://download.pytorch.org/ehl/torch_stable.html\n",
    "%pip install timm==0.4.12\n",
    "%pip install scikit-learn\n",
    "%pip install numpy"
   ]
  },
  {
   "cell_type": "code",
   "execution_count": 3,
   "id": "74debddd-686f-4b5e-beed-8bec6861c20a",
   "metadata": {
    "collapsed": true,
    "jupyter": {
     "outputs_hidden": true
    },
    "tags": []
   },
   "outputs": [
    {
     "name": "stdout",
     "output_type": "stream",
     "text": [
      "Requirement already satisfied: ipywidgets in c:\\users\\rcwww\\desktop\\y3t1\\ict3104-software-management\\project\\t01-nvidia-jupyternotebookenv\\venv_382\\lib\\site-packages (8.0.2)\n",
      "Requirement already satisfied: ipython>=6.1.0 in c:\\users\\rcwww\\desktop\\y3t1\\ict3104-software-management\\project\\t01-nvidia-jupyternotebookenv\\venv_382\\lib\\site-packages (from ipywidgets) (8.5.0)\n",
      "Requirement already satisfied: traitlets>=4.3.1 in c:\\users\\rcwww\\desktop\\y3t1\\ict3104-software-management\\project\\t01-nvidia-jupyternotebookenv\\venv_382\\lib\\site-packages (from ipywidgets) (5.3.0)\n",
      "Requirement already satisfied: jupyterlab-widgets~=3.0 in c:\\users\\rcwww\\desktop\\y3t1\\ict3104-software-management\\project\\t01-nvidia-jupyternotebookenv\\venv_382\\lib\\site-packages (from ipywidgets) (3.0.3)\n",
      "Requirement already satisfied: ipykernel>=4.5.1 in c:\\users\\rcwww\\desktop\\y3t1\\ict3104-software-management\\project\\t01-nvidia-jupyternotebookenv\\venv_382\\lib\\site-packages (from ipywidgets) (6.15.2)\n",
      "Requirement already satisfied: widgetsnbextension~=4.0 in c:\\users\\rcwww\\desktop\\y3t1\\ict3104-software-management\\project\\t01-nvidia-jupyternotebookenv\\venv_382\\lib\\site-packages (from ipywidgets) (4.0.3)\n",
      "Requirement already satisfied: matplotlib-inline>=0.1 in c:\\users\\rcwww\\desktop\\y3t1\\ict3104-software-management\\project\\t01-nvidia-jupyternotebookenv\\venv_382\\lib\\site-packages (from ipykernel>=4.5.1->ipywidgets) (0.1.6)\n",
      "Requirement already satisfied: packaging in c:\\users\\rcwww\\desktop\\y3t1\\ict3104-software-management\\project\\t01-nvidia-jupyternotebookenv\\venv_382\\lib\\site-packages (from ipykernel>=4.5.1->ipywidgets) (21.3)\n",
      "Requirement already satisfied: psutil in c:\\users\\rcwww\\desktop\\y3t1\\ict3104-software-management\\project\\t01-nvidia-jupyternotebookenv\\venv_382\\lib\\site-packages (from ipykernel>=4.5.1->ipywidgets) (5.9.2)\n",
      "Requirement already satisfied: tornado>=6.1 in c:\\users\\rcwww\\desktop\\y3t1\\ict3104-software-management\\project\\t01-nvidia-jupyternotebookenv\\venv_382\\lib\\site-packages (from ipykernel>=4.5.1->ipywidgets) (6.2)\n",
      "Requirement already satisfied: jupyter-client>=6.1.12 in c:\\users\\rcwww\\desktop\\y3t1\\ict3104-software-management\\project\\t01-nvidia-jupyternotebookenv\\venv_382\\lib\\site-packages (from ipykernel>=4.5.1->ipywidgets) (7.3.5)\n",
      "Requirement already satisfied: debugpy>=1.0 in c:\\users\\rcwww\\desktop\\y3t1\\ict3104-software-management\\project\\t01-nvidia-jupyternotebookenv\\venv_382\\lib\\site-packages (from ipykernel>=4.5.1->ipywidgets) (1.6.3)\n",
      "Requirement already satisfied: nest-asyncio in c:\\users\\rcwww\\desktop\\y3t1\\ict3104-software-management\\project\\t01-nvidia-jupyternotebookenv\\venv_382\\lib\\site-packages (from ipykernel>=4.5.1->ipywidgets) (1.5.5)\n",
      "Requirement already satisfied: pyzmq>=17 in c:\\users\\rcwww\\desktop\\y3t1\\ict3104-software-management\\project\\t01-nvidia-jupyternotebookenv\\venv_382\\lib\\site-packages (from ipykernel>=4.5.1->ipywidgets) (23.2.1)\n",
      "Requirement already satisfied: backcall in c:\\users\\rcwww\\desktop\\y3t1\\ict3104-software-management\\project\\t01-nvidia-jupyternotebookenv\\venv_382\\lib\\site-packages (from ipython>=6.1.0->ipywidgets) (0.2.0)\n",
      "Requirement already satisfied: stack-data in c:\\users\\rcwww\\desktop\\y3t1\\ict3104-software-management\\project\\t01-nvidia-jupyternotebookenv\\venv_382\\lib\\site-packages (from ipython>=6.1.0->ipywidgets) (0.5.0)\n",
      "Requirement already satisfied: pygments>=2.4.0 in c:\\users\\rcwww\\desktop\\y3t1\\ict3104-software-management\\project\\t01-nvidia-jupyternotebookenv\\venv_382\\lib\\site-packages (from ipython>=6.1.0->ipywidgets) (2.13.0)\n",
      "Requirement already satisfied: pickleshare in c:\\users\\rcwww\\desktop\\y3t1\\ict3104-software-management\\project\\t01-nvidia-jupyternotebookenv\\venv_382\\lib\\site-packages (from ipython>=6.1.0->ipywidgets) (0.7.5)\n",
      "Requirement already satisfied: decorator in c:\\users\\rcwww\\desktop\\y3t1\\ict3104-software-management\\project\\t01-nvidia-jupyternotebookenv\\venv_382\\lib\\site-packages (from ipython>=6.1.0->ipywidgets) (5.1.1)\n",
      "Requirement already satisfied: colorama in c:\\users\\rcwww\\desktop\\y3t1\\ict3104-software-management\\project\\t01-nvidia-jupyternotebookenv\\venv_382\\lib\\site-packages (from ipython>=6.1.0->ipywidgets) (0.4.5)\n",
      "Requirement already satisfied: prompt-toolkit<3.1.0,>3.0.1 in c:\\users\\rcwww\\desktop\\y3t1\\ict3104-software-management\\project\\t01-nvidia-jupyternotebookenv\\venv_382\\lib\\site-packages (from ipython>=6.1.0->ipywidgets) (3.0.31)\n",
      "Requirement already satisfied: jedi>=0.16 in c:\\users\\rcwww\\desktop\\y3t1\\ict3104-software-management\\project\\t01-nvidia-jupyternotebookenv\\venv_382\\lib\\site-packages (from ipython>=6.1.0->ipywidgets) (0.18.1)\n",
      "Requirement already satisfied: parso<0.9.0,>=0.8.0 in c:\\users\\rcwww\\desktop\\y3t1\\ict3104-software-management\\project\\t01-nvidia-jupyternotebookenv\\venv_382\\lib\\site-packages (from jedi>=0.16->ipython>=6.1.0->ipywidgets) (0.8.3)\n",
      "Requirement already satisfied: jupyter-core>=4.9.2 in c:\\users\\rcwww\\desktop\\y3t1\\ict3104-software-management\\project\\t01-nvidia-jupyternotebookenv\\venv_382\\lib\\site-packages (from jupyter-client>=6.1.12->ipykernel>=4.5.1->ipywidgets) (4.11.1)\n",
      "Requirement already satisfied: entrypoints in c:\\users\\rcwww\\desktop\\y3t1\\ict3104-software-management\\project\\t01-nvidia-jupyternotebookenv\\venv_382\\lib\\site-packages (from jupyter-client>=6.1.12->ipykernel>=4.5.1->ipywidgets) (0.4)\n",
      "Requirement already satisfied: python-dateutil>=2.8.2 in c:\\users\\rcwww\\desktop\\y3t1\\ict3104-software-management\\project\\t01-nvidia-jupyternotebookenv\\venv_382\\lib\\site-packages (from jupyter-client>=6.1.12->ipykernel>=4.5.1->ipywidgets) (2.8.2)\n",
      "Requirement already satisfied: pywin32>=1.0 in c:\\users\\rcwww\\desktop\\y3t1\\ict3104-software-management\\project\\t01-nvidia-jupyternotebookenv\\venv_382\\lib\\site-packages (from jupyter-core>=4.9.2->jupyter-client>=6.1.12->ipykernel>=4.5.1->ipywidgets) (304)\n",
      "Requirement already satisfied: wcwidth in c:\\users\\rcwww\\desktop\\y3t1\\ict3104-software-management\\project\\t01-nvidia-jupyternotebookenv\\venv_382\\lib\\site-packages (from prompt-toolkit<3.1.0,>3.0.1->ipython>=6.1.0->ipywidgets) (0.2.5)\n",
      "Requirement already satisfied: six>=1.5 in c:\\users\\rcwww\\desktop\\y3t1\\ict3104-software-management\\project\\t01-nvidia-jupyternotebookenv\\venv_382\\lib\\site-packages (from python-dateutil>=2.8.2->jupyter-client>=6.1.12->ipykernel>=4.5.1->ipywidgets) (1.16.0)\n",
      "Requirement already satisfied: pyparsing!=3.0.5,>=2.0.2 in c:\\users\\rcwww\\desktop\\y3t1\\ict3104-software-management\\project\\t01-nvidia-jupyternotebookenv\\venv_382\\lib\\site-packages (from packaging->ipykernel>=4.5.1->ipywidgets) (3.0.9)\n",
      "Requirement already satisfied: executing in c:\\users\\rcwww\\desktop\\y3t1\\ict3104-software-management\\project\\t01-nvidia-jupyternotebookenv\\venv_382\\lib\\site-packages (from stack-data->ipython>=6.1.0->ipywidgets) (1.0.0)\n",
      "Requirement already satisfied: pure-eval in c:\\users\\rcwww\\desktop\\y3t1\\ict3104-software-management\\project\\t01-nvidia-jupyternotebookenv\\venv_382\\lib\\site-packages (from stack-data->ipython>=6.1.0->ipywidgets) (0.2.2)\n",
      "Requirement already satisfied: asttokens in c:\\users\\rcwww\\desktop\\y3t1\\ict3104-software-management\\project\\t01-nvidia-jupyternotebookenv\\venv_382\\lib\\site-packages (from stack-data->ipython>=6.1.0->ipywidgets) (2.0.8)\n",
      "Note: you may need to restart the kernel to use updated packages.\n"
     ]
    },
    {
     "name": "stderr",
     "output_type": "stream",
     "text": [
      "WARNING: You are using pip version 21.1.1; however, version 22.2.2 is available.\n",
      "You should consider upgrading via the 'c:\\users\\rcwww\\desktop\\y3t1\\ict3104-software-management\\project\\t01-nvidia-jupyternotebookenv\\venv_382\\scripts\\python.exe -m pip install --upgrade pip' command.\n"
     ]
    }
   ],
   "source": [
    "%pip install ipywidgets"
   ]
  },
  {
   "cell_type": "code",
   "execution_count": 7,
   "id": "c44a2e7f-1951-4e43-802f-a2db436e5101",
   "metadata": {
    "collapsed": true,
    "jupyter": {
     "outputs_hidden": true
    },
    "tags": []
   },
   "outputs": [
    {
     "name": "stdout",
     "output_type": "stream",
     "text": [
      "Requirement already satisfied: tqdm in c:\\users\\rcwww\\desktop\\y3t1\\ict3104-software-management\\project\\t01-nvidia-jupyternotebookenv\\venv_382\\lib\\site-packages (4.64.1)\n",
      "Requirement already satisfied: colorama in c:\\users\\rcwww\\desktop\\y3t1\\ict3104-software-management\\project\\t01-nvidia-jupyternotebookenv\\venv_382\\lib\\site-packages (from tqdm) (0.4.5)\n",
      "Note: you may need to restart the kernel to use updated packages.\n"
     ]
    },
    {
     "name": "stderr",
     "output_type": "stream",
     "text": [
      "WARNING: You are using pip version 21.1.1; however, version 22.2.2 is available.\n",
      "You should consider upgrading via the 'c:\\users\\rcwww\\desktop\\y3t1\\ict3104-software-management\\project\\t01-nvidia-jupyternotebookenv\\venv_382\\scripts\\python.exe -m pip install --upgrade pip' command.\n"
     ]
    }
   ],
   "source": [
    "%pip install tqdm"
   ]
  },
  {
   "cell_type": "markdown",
   "id": "a7fadfc0-0020-455b-b1e6-910a8b72209c",
   "metadata": {},
   "source": [
    "### Dependencies and Setup"
   ]
  },
  {
   "cell_type": "code",
   "execution_count": 1,
   "id": "fa7d1a5b-c24b-4b2a-9081-4f0a1c504a8f",
   "metadata": {},
   "outputs": [
    {
     "name": "stdout",
     "output_type": "stream",
     "text": [
      "1.10.1+cpu\n"
     ]
    }
   ],
   "source": [
    "import torch\n",
    "import os\n",
    "import ipywidgets as widgets\n",
    "from subprocess import Popen\n",
    "print(torch.__version__)"
   ]
  },
  {
   "cell_type": "markdown",
   "id": "89708029",
   "metadata": {},
   "source": [
    "## 1. Data Exploration\n",
    "\n",
    "Load and display video data from the Toyota Smarthome (TSU) project."
   ]
  },
  {
   "cell_type": "markdown",
   "id": "06f295e0",
   "metadata": {},
   "source": [
    "### 1.1 Datasets Folders Creation \n",
    "Initialise <span style='background :yellow' >TSU</span> Dataset in `data` folder.\n",
    "- `data` folder that stores different subfolders to store different types of datasets."
   ]
  },
  {
   "cell_type": "code",
   "execution_count": 3,
   "id": "4af78c58",
   "metadata": {
    "collapsed": true,
    "jupyter": {
     "outputs_hidden": true
    },
    "tags": []
   },
   "outputs": [
    {
     "name": "stdout",
     "output_type": "stream",
     "text": [
      "Collecting ipywidgets\n",
      "  Using cached https://files.pythonhosted.org/packages/e4/56/990c10ca8751182ace2464cb0e4baafb7087a40c185c9142b9cd18683fac/ipywidgets-8.0.2-py3-none-any.whl\n",
      "Collecting jupyterlab-widgets~=3.0 (from ipywidgets)\n",
      "  Using cached https://files.pythonhosted.org/packages/d8/52/2f4b8f5975312fb58f4eacab2e6f6cfd2efd05704514a60a151a4e69d608/jupyterlab_widgets-3.0.3-py3-none-any.whl\n",
      "Collecting widgetsnbextension~=4.0 (from ipywidgets)\n",
      "  Using cached https://files.pythonhosted.org/packages/d7/ae/ee70b20dc836d935a9a6483339854c09d8752e55a8104668e2426cf3baf3/widgetsnbextension-4.0.3-py3-none-any.whl\n",
      "Requirement already satisfied: ipykernel>=4.5.1 in ./venv/lib/python3.8/site-packages (from ipywidgets) (6.15.2)\n",
      "Requirement already satisfied: ipython>=6.1.0 in ./venv/lib/python3.8/site-packages (from ipywidgets) (8.5.0)\n",
      "Requirement already satisfied: traitlets>=4.3.1 in ./venv/lib/python3.8/site-packages (from ipywidgets) (5.3.0)\n",
      "Requirement already satisfied: appnope; platform_system == \"Darwin\" in ./venv/lib/python3.8/site-packages (from ipykernel>=4.5.1->ipywidgets) (0.1.3)\n",
      "Requirement already satisfied: packaging in ./venv/lib/python3.8/site-packages (from ipykernel>=4.5.1->ipywidgets) (21.3)\n",
      "Requirement already satisfied: nest-asyncio in ./venv/lib/python3.8/site-packages (from ipykernel>=4.5.1->ipywidgets) (1.5.5)\n",
      "Requirement already satisfied: jupyter-client>=6.1.12 in ./venv/lib/python3.8/site-packages (from ipykernel>=4.5.1->ipywidgets) (7.3.5)\n",
      "Requirement already satisfied: tornado>=6.1 in ./venv/lib/python3.8/site-packages (from ipykernel>=4.5.1->ipywidgets) (6.2)\n",
      "Requirement already satisfied: psutil in ./venv/lib/python3.8/site-packages (from ipykernel>=4.5.1->ipywidgets) (5.9.2)\n",
      "Requirement already satisfied: pyzmq>=17 in ./venv/lib/python3.8/site-packages (from ipykernel>=4.5.1->ipywidgets) (23.2.1)\n",
      "Requirement already satisfied: matplotlib-inline>=0.1 in ./venv/lib/python3.8/site-packages (from ipykernel>=4.5.1->ipywidgets) (0.1.6)\n",
      "Requirement already satisfied: debugpy>=1.0 in ./venv/lib/python3.8/site-packages (from ipykernel>=4.5.1->ipywidgets) (1.6.3)\n",
      "Requirement already satisfied: prompt-toolkit<3.1.0,>3.0.1 in ./venv/lib/python3.8/site-packages (from ipython>=6.1.0->ipywidgets) (3.0.31)\n",
      "Requirement already satisfied: stack-data in ./venv/lib/python3.8/site-packages (from ipython>=6.1.0->ipywidgets) (0.5.0)\n",
      "Requirement already satisfied: jedi>=0.16 in ./venv/lib/python3.8/site-packages (from ipython>=6.1.0->ipywidgets) (0.18.1)\n",
      "Requirement already satisfied: decorator in ./venv/lib/python3.8/site-packages (from ipython>=6.1.0->ipywidgets) (5.1.1)\n",
      "Requirement already satisfied: pexpect>4.3; sys_platform != \"win32\" in ./venv/lib/python3.8/site-packages (from ipython>=6.1.0->ipywidgets) (4.8.0)\n",
      "Requirement already satisfied: pickleshare in ./venv/lib/python3.8/site-packages (from ipython>=6.1.0->ipywidgets) (0.7.5)\n",
      "Requirement already satisfied: backcall in ./venv/lib/python3.8/site-packages (from ipython>=6.1.0->ipywidgets) (0.2.0)\n",
      "Requirement already satisfied: pygments>=2.4.0 in ./venv/lib/python3.8/site-packages (from ipython>=6.1.0->ipywidgets) (2.13.0)\n",
      "Requirement already satisfied: pyparsing!=3.0.5,>=2.0.2 in ./venv/lib/python3.8/site-packages (from packaging->ipykernel>=4.5.1->ipywidgets) (3.0.9)\n",
      "Requirement already satisfied: jupyter-core>=4.9.2 in ./venv/lib/python3.8/site-packages (from jupyter-client>=6.1.12->ipykernel>=4.5.1->ipywidgets) (4.11.1)\n",
      "Requirement already satisfied: entrypoints in ./venv/lib/python3.8/site-packages (from jupyter-client>=6.1.12->ipykernel>=4.5.1->ipywidgets) (0.4)\n",
      "Requirement already satisfied: python-dateutil>=2.8.2 in ./venv/lib/python3.8/site-packages (from jupyter-client>=6.1.12->ipykernel>=4.5.1->ipywidgets) (2.8.2)\n",
      "Requirement already satisfied: wcwidth in ./venv/lib/python3.8/site-packages (from prompt-toolkit<3.1.0,>3.0.1->ipython>=6.1.0->ipywidgets) (0.2.5)\n",
      "Requirement already satisfied: executing in ./venv/lib/python3.8/site-packages (from stack-data->ipython>=6.1.0->ipywidgets) (1.0.0)\n",
      "Requirement already satisfied: pure-eval in ./venv/lib/python3.8/site-packages (from stack-data->ipython>=6.1.0->ipywidgets) (0.2.2)\n",
      "Requirement already satisfied: asttokens in ./venv/lib/python3.8/site-packages (from stack-data->ipython>=6.1.0->ipywidgets) (2.0.8)\n",
      "Requirement already satisfied: parso<0.9.0,>=0.8.0 in ./venv/lib/python3.8/site-packages (from jedi>=0.16->ipython>=6.1.0->ipywidgets) (0.8.3)\n",
      "Requirement already satisfied: ptyprocess>=0.5 in ./venv/lib/python3.8/site-packages (from pexpect>4.3; sys_platform != \"win32\"->ipython>=6.1.0->ipywidgets) (0.7.0)\n",
      "Requirement already satisfied: six>=1.5 in ./venv/lib/python3.8/site-packages (from python-dateutil>=2.8.2->jupyter-client>=6.1.12->ipykernel>=4.5.1->ipywidgets) (1.16.0)\n",
      "Installing collected packages: jupyterlab-widgets, widgetsnbextension, ipywidgets\n",
      "Successfully installed ipywidgets-8.0.2 jupyterlab-widgets-3.0.3 widgetsnbextension-4.0.3\n",
      "\u001b[33mWARNING: You are using pip version 19.2.3, however version 22.2.2 is available.\n",
      "You should consider upgrading via the 'pip install --upgrade pip' command.\u001b[0m\n",
      "Collecting jupyter-js-widgets-nbextension\n",
      "  Using cached https://files.pythonhosted.org/packages/40/fd/fb94c8b6493b8f3f1daba95e8c5e92e97c95e9b72038362637e979cf747c/jupyter_js_widgets_nbextension-0.0.2.dev0-py2.py3-none-any.whl\n",
      "Requirement already satisfied: ipython>=4.0.0 in ./venv/lib/python3.8/site-packages (from jupyter-js-widgets-nbextension) (8.5.0)\n",
      "Requirement already satisfied: traitlets>=4.1.0 in ./venv/lib/python3.8/site-packages (from jupyter-js-widgets-nbextension) (5.3.0)\n",
      "Requirement already satisfied: notebook>=4.1.0 in ./venv/lib/python3.8/site-packages (from jupyter-js-widgets-nbextension) (6.4.12)\n",
      "Requirement already satisfied: ipykernel>=4.2.2 in ./venv/lib/python3.8/site-packages (from jupyter-js-widgets-nbextension) (6.15.2)\n",
      "Requirement already satisfied: pickleshare in ./venv/lib/python3.8/site-packages (from ipython>=4.0.0->jupyter-js-widgets-nbextension) (0.7.5)\n",
      "Requirement already satisfied: decorator in ./venv/lib/python3.8/site-packages (from ipython>=4.0.0->jupyter-js-widgets-nbextension) (5.1.1)\n",
      "Requirement already satisfied: prompt-toolkit<3.1.0,>3.0.1 in ./venv/lib/python3.8/site-packages (from ipython>=4.0.0->jupyter-js-widgets-nbextension) (3.0.31)\n",
      "Requirement already satisfied: backcall in ./venv/lib/python3.8/site-packages (from ipython>=4.0.0->jupyter-js-widgets-nbextension) (0.2.0)\n",
      "Requirement already satisfied: pygments>=2.4.0 in ./venv/lib/python3.8/site-packages (from ipython>=4.0.0->jupyter-js-widgets-nbextension) (2.13.0)\n",
      "Requirement already satisfied: pexpect>4.3; sys_platform != \"win32\" in ./venv/lib/python3.8/site-packages (from ipython>=4.0.0->jupyter-js-widgets-nbextension) (4.8.0)\n",
      "Requirement already satisfied: appnope; sys_platform == \"darwin\" in ./venv/lib/python3.8/site-packages (from ipython>=4.0.0->jupyter-js-widgets-nbextension) (0.1.3)\n",
      "Requirement already satisfied: stack-data in ./venv/lib/python3.8/site-packages (from ipython>=4.0.0->jupyter-js-widgets-nbextension) (0.5.0)\n",
      "Requirement already satisfied: jedi>=0.16 in ./venv/lib/python3.8/site-packages (from ipython>=4.0.0->jupyter-js-widgets-nbextension) (0.18.1)\n",
      "Requirement already satisfied: matplotlib-inline in ./venv/lib/python3.8/site-packages (from ipython>=4.0.0->jupyter-js-widgets-nbextension) (0.1.6)\n",
      "Requirement already satisfied: pyzmq>=17 in ./venv/lib/python3.8/site-packages (from notebook>=4.1.0->jupyter-js-widgets-nbextension) (23.2.1)\n",
      "Requirement already satisfied: jupyter-core>=4.6.1 in ./venv/lib/python3.8/site-packages (from notebook>=4.1.0->jupyter-js-widgets-nbextension) (4.11.1)\n",
      "Requirement already satisfied: jupyter-client>=5.3.4 in ./venv/lib/python3.8/site-packages (from notebook>=4.1.0->jupyter-js-widgets-nbextension) (7.3.5)\n",
      "Requirement already satisfied: argon2-cffi in ./venv/lib/python3.8/site-packages (from notebook>=4.1.0->jupyter-js-widgets-nbextension) (21.3.0)\n",
      "Requirement already satisfied: nbformat in ./venv/lib/python3.8/site-packages (from notebook>=4.1.0->jupyter-js-widgets-nbextension) (5.4.0)\n",
      "Requirement already satisfied: nest-asyncio>=1.5 in ./venv/lib/python3.8/site-packages (from notebook>=4.1.0->jupyter-js-widgets-nbextension) (1.5.5)\n",
      "Requirement already satisfied: Send2Trash>=1.8.0 in ./venv/lib/python3.8/site-packages (from notebook>=4.1.0->jupyter-js-widgets-nbextension) (1.8.0)\n",
      "Requirement already satisfied: jinja2 in ./venv/lib/python3.8/site-packages (from notebook>=4.1.0->jupyter-js-widgets-nbextension) (3.1.2)\n",
      "Requirement already satisfied: terminado>=0.8.3 in ./venv/lib/python3.8/site-packages (from notebook>=4.1.0->jupyter-js-widgets-nbextension) (0.15.0)\n",
      "Requirement already satisfied: tornado>=6.1 in ./venv/lib/python3.8/site-packages (from notebook>=4.1.0->jupyter-js-widgets-nbextension) (6.2)\n",
      "Requirement already satisfied: ipython-genutils in ./venv/lib/python3.8/site-packages (from notebook>=4.1.0->jupyter-js-widgets-nbextension) (0.2.0)\n",
      "Requirement already satisfied: nbconvert>=5 in ./venv/lib/python3.8/site-packages (from notebook>=4.1.0->jupyter-js-widgets-nbextension) (7.0.0)\n",
      "Requirement already satisfied: prometheus-client in ./venv/lib/python3.8/site-packages (from notebook>=4.1.0->jupyter-js-widgets-nbextension) (0.14.1)\n",
      "Requirement already satisfied: debugpy>=1.0 in ./venv/lib/python3.8/site-packages (from ipykernel>=4.2.2->jupyter-js-widgets-nbextension) (1.6.3)\n",
      "Requirement already satisfied: psutil in ./venv/lib/python3.8/site-packages (from ipykernel>=4.2.2->jupyter-js-widgets-nbextension) (5.9.2)\n",
      "Requirement already satisfied: packaging in ./venv/lib/python3.8/site-packages (from ipykernel>=4.2.2->jupyter-js-widgets-nbextension) (21.3)\n",
      "Requirement already satisfied: wcwidth in ./venv/lib/python3.8/site-packages (from prompt-toolkit<3.1.0,>3.0.1->ipython>=4.0.0->jupyter-js-widgets-nbextension) (0.2.5)\n",
      "Requirement already satisfied: ptyprocess>=0.5 in ./venv/lib/python3.8/site-packages (from pexpect>4.3; sys_platform != \"win32\"->ipython>=4.0.0->jupyter-js-widgets-nbextension) (0.7.0)\n",
      "Requirement already satisfied: executing in ./venv/lib/python3.8/site-packages (from stack-data->ipython>=4.0.0->jupyter-js-widgets-nbextension) (1.0.0)\n",
      "Requirement already satisfied: asttokens in ./venv/lib/python3.8/site-packages (from stack-data->ipython>=4.0.0->jupyter-js-widgets-nbextension) (2.0.8)\n",
      "Requirement already satisfied: pure-eval in ./venv/lib/python3.8/site-packages (from stack-data->ipython>=4.0.0->jupyter-js-widgets-nbextension) (0.2.2)\n",
      "Requirement already satisfied: parso<0.9.0,>=0.8.0 in ./venv/lib/python3.8/site-packages (from jedi>=0.16->ipython>=4.0.0->jupyter-js-widgets-nbextension) (0.8.3)\n",
      "Requirement already satisfied: entrypoints in ./venv/lib/python3.8/site-packages (from jupyter-client>=5.3.4->notebook>=4.1.0->jupyter-js-widgets-nbextension) (0.4)\n",
      "Requirement already satisfied: python-dateutil>=2.8.2 in ./venv/lib/python3.8/site-packages (from jupyter-client>=5.3.4->notebook>=4.1.0->jupyter-js-widgets-nbextension) (2.8.2)\n",
      "Requirement already satisfied: argon2-cffi-bindings in ./venv/lib/python3.8/site-packages (from argon2-cffi->notebook>=4.1.0->jupyter-js-widgets-nbextension) (21.2.0)\n",
      "Requirement already satisfied: jsonschema>=2.6 in ./venv/lib/python3.8/site-packages (from nbformat->notebook>=4.1.0->jupyter-js-widgets-nbextension) (4.16.0)\n",
      "Requirement already satisfied: fastjsonschema in ./venv/lib/python3.8/site-packages (from nbformat->notebook>=4.1.0->jupyter-js-widgets-nbextension) (2.16.1)\n",
      "Requirement already satisfied: MarkupSafe>=2.0 in ./venv/lib/python3.8/site-packages (from jinja2->notebook>=4.1.0->jupyter-js-widgets-nbextension) (2.1.1)\n",
      "Requirement already satisfied: nbclient>=0.5.0 in ./venv/lib/python3.8/site-packages (from nbconvert>=5->notebook>=4.1.0->jupyter-js-widgets-nbextension) (0.6.8)\n",
      "Requirement already satisfied: jupyterlab-pygments in ./venv/lib/python3.8/site-packages (from nbconvert>=5->notebook>=4.1.0->jupyter-js-widgets-nbextension) (0.2.2)\n",
      "Requirement already satisfied: pandocfilters>=1.4.1 in ./venv/lib/python3.8/site-packages (from nbconvert>=5->notebook>=4.1.0->jupyter-js-widgets-nbextension) (1.5.0)\n",
      "Requirement already satisfied: defusedxml in ./venv/lib/python3.8/site-packages (from nbconvert>=5->notebook>=4.1.0->jupyter-js-widgets-nbextension) (0.7.1)\n",
      "Requirement already satisfied: bleach in ./venv/lib/python3.8/site-packages (from nbconvert>=5->notebook>=4.1.0->jupyter-js-widgets-nbextension) (5.0.1)\n",
      "Requirement already satisfied: tinycss2 in ./venv/lib/python3.8/site-packages (from nbconvert>=5->notebook>=4.1.0->jupyter-js-widgets-nbextension) (1.1.1)\n",
      "Requirement already satisfied: mistune<3,>=2.0.3 in ./venv/lib/python3.8/site-packages (from nbconvert>=5->notebook>=4.1.0->jupyter-js-widgets-nbextension) (2.0.4)\n",
      "Requirement already satisfied: importlib-metadata>=3.6; python_version < \"3.10\" in ./venv/lib/python3.8/site-packages (from nbconvert>=5->notebook>=4.1.0->jupyter-js-widgets-nbextension) (4.12.0)\n",
      "Requirement already satisfied: beautifulsoup4 in ./venv/lib/python3.8/site-packages (from nbconvert>=5->notebook>=4.1.0->jupyter-js-widgets-nbextension) (4.11.1)\n",
      "Requirement already satisfied: lxml in ./venv/lib/python3.8/site-packages (from nbconvert>=5->notebook>=4.1.0->jupyter-js-widgets-nbextension) (4.9.1)\n",
      "Requirement already satisfied: pyparsing!=3.0.5,>=2.0.2 in ./venv/lib/python3.8/site-packages (from packaging->ipykernel>=4.2.2->jupyter-js-widgets-nbextension) (3.0.9)\n",
      "Requirement already satisfied: six in ./venv/lib/python3.8/site-packages (from asttokens->stack-data->ipython>=4.0.0->jupyter-js-widgets-nbextension) (1.16.0)\n",
      "Requirement already satisfied: cffi>=1.0.1 in ./venv/lib/python3.8/site-packages (from argon2-cffi-bindings->argon2-cffi->notebook>=4.1.0->jupyter-js-widgets-nbextension) (1.15.1)\n",
      "Requirement already satisfied: pyrsistent!=0.17.0,!=0.17.1,!=0.17.2,>=0.14.0 in ./venv/lib/python3.8/site-packages (from jsonschema>=2.6->nbformat->notebook>=4.1.0->jupyter-js-widgets-nbextension) (0.18.1)\n",
      "Requirement already satisfied: attrs>=17.4.0 in ./venv/lib/python3.8/site-packages (from jsonschema>=2.6->nbformat->notebook>=4.1.0->jupyter-js-widgets-nbextension) (22.1.0)\n",
      "Requirement already satisfied: pkgutil-resolve-name>=1.3.10; python_version < \"3.9\" in ./venv/lib/python3.8/site-packages (from jsonschema>=2.6->nbformat->notebook>=4.1.0->jupyter-js-widgets-nbextension) (1.3.10)\n",
      "Requirement already satisfied: importlib-resources>=1.4.0; python_version < \"3.9\" in ./venv/lib/python3.8/site-packages (from jsonschema>=2.6->nbformat->notebook>=4.1.0->jupyter-js-widgets-nbextension) (5.9.0)\n",
      "Requirement already satisfied: webencodings in ./venv/lib/python3.8/site-packages (from bleach->nbconvert>=5->notebook>=4.1.0->jupyter-js-widgets-nbextension) (0.5.1)\n",
      "Requirement already satisfied: zipp>=0.5 in ./venv/lib/python3.8/site-packages (from importlib-metadata>=3.6; python_version < \"3.10\"->nbconvert>=5->notebook>=4.1.0->jupyter-js-widgets-nbextension) (3.8.1)\n",
      "Requirement already satisfied: soupsieve>1.2 in ./venv/lib/python3.8/site-packages (from beautifulsoup4->nbconvert>=5->notebook>=4.1.0->jupyter-js-widgets-nbextension) (2.3.2.post1)\n",
      "Requirement already satisfied: pycparser in ./venv/lib/python3.8/site-packages (from cffi>=1.0.1->argon2-cffi-bindings->argon2-cffi->notebook>=4.1.0->jupyter-js-widgets-nbextension) (2.21)\n",
      "Installing collected packages: jupyter-js-widgets-nbextension\n",
      "Successfully installed jupyter-js-widgets-nbextension-0.0.2.dev0\n",
      "\u001b[33mWARNING: You are using pip version 19.2.3, however version 22.2.2 is available.\n",
      "You should consider upgrading via the 'pip install --upgrade pip' command.\u001b[0m\n",
      "Enabling notebook extension jupyter-js-widgets/extension...\n",
      "      - Validating: \u001b[32mOK\u001b[0m\n"
     ]
    }
   ],
   "source": [
    "# Installation of required Libraries \n",
    "!pip install ipywidgets\n",
    "!pip install jupyter-js-widgets-nbextension\n",
    "!jupyter nbextension enable --py --sys-prefix widgetsnbextension"
   ]
  },
  {
   "cell_type": "markdown",
   "id": "ad7ba71f",
   "metadata": {},
   "source": [
    " <font color='red'>Note: Restart Jupyter Notebook if the widgets are not working.</font>"
   ]
  },
  {
   "cell_type": "markdown",
   "id": "b247b960",
   "metadata": {},
   "source": [
    "<span style='background :yellow' > **US-03**</span> - Data folder that stores different subfolders to store different types of datasets accordingly"
   ]
  },
  {
   "cell_type": "code",
   "execution_count": null,
   "id": "850b1973",
   "metadata": {},
   "outputs": [],
   "source": [
    "# Imports needed \n",
    "import os\n",
    "import ipywidgets as widgets\n",
    "\n",
    "# Create data folder if it does not exist \n",
    "data_directory = './data'\n",
    "\n",
    "if not os.path.exists(data_directory):\n",
    "    os.makedirs(data_directory)"
   ]
  },
  {
   "cell_type": "code",
   "execution_count": 6,
   "id": "3d1b5867",
   "metadata": {},
   "outputs": [
    {
     "name": "stdout",
     "output_type": "stream",
     "text": [
      "How many datasets would you like to upload?\n"
     ]
    },
    {
     "data": {
      "application/vnd.jupyter.widget-view+json": {
       "model_id": "ecbad51661114029b13545583652d4f1",
       "version_major": 2,
       "version_minor": 0
      },
      "text/plain": [
       "BoundedIntText(value=1, description='Datasets:', max=10)"
      ]
     },
     "execution_count": 6,
     "metadata": {},
     "output_type": "execute_result"
    }
   ],
   "source": [
    "# Get user to input the number of folders needed \n",
    "print(\"How many datasets would you like to upload?\")\n",
    "inputbounded = widgets.BoundedIntText(\n",
    "    value=1,\n",
    "    min=0,\n",
    "    max=10,\n",
    "    step=1,\n",
    "    description='Datasets:',\n",
    "    disabled=False\n",
    ")\n",
    "inputbounded"
   ]
  },
  {
   "cell_type": "code",
   "execution_count": 7,
   "id": "485dc8d7",
   "metadata": {},
   "outputs": [
    {
     "name": "stdout",
     "output_type": "stream",
     "text": [
      "Enter Dataset Name:May\n",
      "Mayis created.\n",
      "Please upload video data to this file path: ./data/May\n",
      "Enter Dataset Name:June\n",
      "Juneis created.\n",
      "Please upload video data to this file path: ./data/June\n"
     ]
    }
   ],
   "source": [
    "# Takes in user input folder name for datasets to be created in \"./data/_____\"\n",
    "numdatasets = inputbounded.value\n",
    "count = 0\n",
    "\n",
    "while count < numdatasets:\n",
    "    foldername = input(\"Enter Dataset Name: \")\n",
    "    directory = './data/'+ foldername\n",
    "    if not os.path.exists(directory):\n",
    "        os.makedirs(directory)\n",
    "        count += 1\n",
    "        print(\"Folder \" +foldername + \" is created.\")\n",
    "        print(\"Please upload video data to this file path: \"+ directory)\n",
    "    else:\n",
    "        print(\"Invalid Folder Name!\")"
   ]
  },
  {
   "cell_type": "code",
   "execution_count": 19,
   "id": "4578ab5c",
   "metadata": {},
   "outputs": [
    {
     "data": {
      "application/vnd.jupyter.widget-view+json": {
       "model_id": "5c48eb00ac3f46e397d6c796f658cde0",
       "version_major": 2,
       "version_minor": 0
      },
      "text/plain": [
       "Select(description='Folder:', options=('June', 'May'), value='June')"
      ]
     },
     "execution_count": 19,
     "metadata": {},
     "output_type": "execute_result"
    }
   ],
   "source": [
    "# Select a folder from the datasets folder created\n",
    "list_folder = []\n",
    "\n",
    "for file in os.listdir(data_directory):\n",
    "    d = os.path.join(data_directory, file)\n",
    "    if os.path.isdir(d):\n",
    "        dataset_folder = d.split(\"/\")\n",
    "        list_folder.append(dataset_folder[2])\n",
    "        \n",
    "        \n",
    "folderbounded = widgets.Select(options=list_folder,\n",
    "                        value=list_folder[0],\n",
    "                        # rows=10,\n",
    "                        description='Folder:',\n",
    "                        disabled=False)\n",
    "folderbounded"
   ]
  },
  {
   "cell_type": "code",
   "execution_count": 27,
   "id": "cf3f0873",
   "metadata": {},
   "outputs": [
    {
     "data": {
      "application/vnd.jupyter.widget-view+json": {
       "model_id": "680e4922e61c4b39a1abefd2b563b8aa",
       "version_major": 2,
       "version_minor": 0
      },
      "text/plain": [
       "Select(description='May:', options=('team01_ssh',), value='team01_ssh')"
      ]
     },
     "execution_count": 27,
     "metadata": {},
     "output_type": "execute_result"
    }
   ],
   "source": [
    "folder_name = folderbounded.value\n",
    "\n",
    "# Select a folder from the datasets folder created\n",
    "\n",
    "mypath = data_directory+ \"/\" +folder_name+\"/\"\n",
    "\n",
    "list_files = os.listdir(mypath)\n",
    "        \n",
    "        \n",
    "filebounded = widgets.Select(options=list_files,\n",
    "                        # rows=10,\n",
    "                        description=folder_name+':',\n",
    "                        disabled=False)\n",
    "filebounded"
   ]
  },
  {
   "cell_type": "code",
   "execution_count": null,
   "id": "0b3605cb",
   "metadata": {},
   "outputs": [],
   "source": [
    "from IPython.display import Video\n",
    "\n"
   ]
  },
  {
   "cell_type": "markdown",
   "id": "466be9d9-ac20-4e39-ae5d-a850d22a8220",
   "metadata": {},
   "source": [
    "### US-06\n",
    "Loading a model\n",
    "<span style='background :yellow' > **US-06**</span> - Loading a model"
   ]
  },
  {
   "cell_type": "code",
   "execution_count": 28,
   "id": "dbe03f58-fa83-425a-9660-7c2dbec9cb10",
   "metadata": {
    "tags": []
   },
   "outputs": [
    {
     "data": {
      "application/vnd.jupyter.widget-view+json": {
       "model_id": "0e644d20b1a64627b7dc25e8db565dca",
       "version_major": 2,
       "version_minor": 0
      },
      "text/plain": [
       "Dropdown(description='Choose Model', options=('PDAN_TSU_RGB', 'test1', 'test2'), value='PDAN_TSU_RGB')"
      ]
     },
     "execution_count": 28,
     "metadata": {},
     "output_type": "execute_result"
    }
   ],
   "source": [
    "mylist = os.listdir(\"trained_model\")\n",
    "selectedModel = widgets.Dropdown(\n",
    "    options=mylist,\n",
    "    value = mylist[0],\n",
    "    description = 'Choose Model',\n",
    "    disabled=False\n",
    ")\n",
    "selectedModel"
   ]
  },
  {
   "cell_type": "code",
   "execution_count": 3,
   "id": "eb1c27ed-5275-4dd5-b8a5-cb759ca12a1d",
   "metadata": {},
   "outputs": [
    {
     "data": {
      "application/vnd.jupyter.widget-view+json": {
       "model_id": "6cf7538290dc445b9197f5e9937379a7",
       "version_major": 2,
       "version_minor": 0
      },
      "text/plain": [
       "Dropdown(description='Choose Model', options=('PDAN_TSU_RGB', 'test1', 'test2'), value='PDAN_TSU_RGB')"
      ]
     },
     "execution_count": 3,
     "metadata": {},
     "output_type": "execute_result"
    }
   ],
   "source": [
    "selectedModel.value\n",
    "#selectedModel = \"PDAN_TSU_RGB\"\n",
    "selectedModel"
   ]
  },
  {
   "cell_type": "code",
   "execution_count": null,
   "id": "7350c494",
   "metadata": {},
   "outputs": [],
   "source": [
    "#linux\n",
    "Process=Popen(\"./Toyota_Smarthome/pipline/run_PDAN.sh %s\" % (str(selectedModel)), shell=True)\n",
    "#!./Toyota_Smarthome/pipline/run_PDAN.sh selectedModel"
   ]
  }
 ],
 "metadata": {
  "kernelspec": {
   "display_name": "Python 3 (ipykernel)",
   "language": "python",
   "name": "python3"
  },
  "language_info": {
   "codemirror_mode": {
    "name": "ipython",
    "version": 3
   },
   "file_extension": ".py",
   "mimetype": "text/x-python",
   "name": "python",
   "nbconvert_exporter": "python",
   "pygments_lexer": "ipython3",
   "version": "3.8.10"
  }
 },
 "nbformat": 4,
 "nbformat_minor": 5
}
