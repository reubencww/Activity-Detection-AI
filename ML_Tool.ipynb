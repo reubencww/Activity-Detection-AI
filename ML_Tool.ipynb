{
 "cells": [
  {
   "cell_type": "markdown",
   "id": "f22876b2",
   "metadata": {},
   "source": [
    "# ML TOOL \n",
    "\n",
    "<span> A jupyter notebook tool to aid the testing of machine learning (ML) models in the domain of activity detection.  </span>"
   ]
  },
  {
   "cell_type": "markdown",
   "id": "069e892b",
   "metadata": {
    "tags": []
   },
   "source": [
    "### US-01\n",
    "Ensure jupyter notebook has python3.x "
   ]
  },
  {
   "cell_type": "code",
   "execution_count": 1,
   "id": "505d9fb6-dec4-4ed3-8fa2-2c2cfbd5ff01",
   "metadata": {},
   "outputs": [
    {
     "name": "stdout",
     "output_type": "stream",
     "text": [
      "3.8.10\n"
     ]
    }
   ],
   "source": [
    "from platform import python_version\n",
    "\n",
    "print(python_version())"
   ]
  },
  {
   "cell_type": "markdown",
   "id": "bcfd116b-ac81-4726-bd66-06e86c940ef6",
   "metadata": {},
   "source": [
    "### Installing Dependencies\n"
   ]
  },
  {
   "cell_type": "code",
   "execution_count": 2,
   "id": "f59cb734-9a3e-4927-951b-34f48710f156",
   "metadata": {
    "jupyter": {
     "outputs_hidden": true
    },
    "tags": []
   },
   "outputs": [
    {
     "name": "stdout",
     "output_type": "stream",
     "text": [
      "Looking in links: https://download.pytorch.org/ehl/torch_stable.html\n",
      "Requirement already satisfied: torch==1.10.1 in ./venv38_ub/lib/python3.8/site-packages (1.10.1)\n",
      "Requirement already satisfied: torchvision==0.11.2 in ./venv38_ub/lib/python3.8/site-packages (0.11.2)\n",
      "Requirement already satisfied: torchaudio==0.10.1 in ./venv38_ub/lib/python3.8/site-packages (0.10.1)\n",
      "Requirement already satisfied: typing-extensions in ./venv38_ub/lib/python3.8/site-packages (from torch==1.10.1) (4.3.0)\n",
      "Requirement already satisfied: pillow!=8.3.0,>=5.3.0 in ./venv38_ub/lib/python3.8/site-packages (from torchvision==0.11.2) (9.2.0)\n",
      "Requirement already satisfied: numpy in ./venv38_ub/lib/python3.8/site-packages (from torchvision==0.11.2) (1.23.3)\n",
      "Note: you may need to restart the kernel to use updated packages.\n",
      "Requirement already satisfied: timm==0.4.12 in ./venv38_ub/lib/python3.8/site-packages (0.4.12)\n",
      "Requirement already satisfied: torchvision in ./venv38_ub/lib/python3.8/site-packages (from timm==0.4.12) (0.11.2)\n",
      "Requirement already satisfied: torch>=1.4 in ./venv38_ub/lib/python3.8/site-packages (from timm==0.4.12) (1.10.1)\n",
      "Requirement already satisfied: pillow!=8.3.0,>=5.3.0 in ./venv38_ub/lib/python3.8/site-packages (from torchvision->timm==0.4.12) (9.2.0)\n",
      "Requirement already satisfied: numpy in ./venv38_ub/lib/python3.8/site-packages (from torchvision->timm==0.4.12) (1.23.3)\n",
      "Requirement already satisfied: typing-extensions in ./venv38_ub/lib/python3.8/site-packages (from torch>=1.4->timm==0.4.12) (4.3.0)\n",
      "Note: you may need to restart the kernel to use updated packages.\n",
      "Requirement already satisfied: scikit-learn in ./venv38_ub/lib/python3.8/site-packages (1.1.2)\n",
      "Requirement already satisfied: scipy>=1.3.2 in ./venv38_ub/lib/python3.8/site-packages (from scikit-learn) (1.9.1)\n",
      "Requirement already satisfied: numpy>=1.17.3 in ./venv38_ub/lib/python3.8/site-packages (from scikit-learn) (1.23.3)\n",
      "Requirement already satisfied: joblib>=1.0.0 in ./venv38_ub/lib/python3.8/site-packages (from scikit-learn) (1.1.0)\n",
      "Requirement already satisfied: threadpoolctl>=2.0.0 in ./venv38_ub/lib/python3.8/site-packages (from scikit-learn) (3.1.0)\n",
      "Note: you may need to restart the kernel to use updated packages.\n",
      "Requirement already satisfied: numpy in ./venv38_ub/lib/python3.8/site-packages (1.23.3)\n",
      "Note: you may need to restart the kernel to use updated packages.\n"
     ]
    }
   ],
   "source": [
    "%pip install torch==1.10.1 torchvision==0.11.2 torchaudio==0.10.1 -f https://download.pytorch.org/ehl/torch_stable.html\n",
    "%pip install timm==0.4.12\n",
    "%pip install scikit-learn\n",
    "%pip install numpy"
   ]
  },
  {
   "cell_type": "code",
   "execution_count": 3,
   "id": "74debddd-686f-4b5e-beed-8bec6861c20a",
   "metadata": {
    "jupyter": {
     "outputs_hidden": true
    },
    "tags": []
   },
   "outputs": [
    {
     "name": "stdout",
     "output_type": "stream",
     "text": [
      "Requirement already satisfied: ipywidgets in ./venv38_ub/lib/python3.8/site-packages (8.0.2)\n",
      "Requirement already satisfied: jupyterlab-widgets~=3.0 in ./venv38_ub/lib/python3.8/site-packages (from ipywidgets) (3.0.3)\n",
      "Requirement already satisfied: widgetsnbextension~=4.0 in ./venv38_ub/lib/python3.8/site-packages (from ipywidgets) (4.0.3)\n",
      "Requirement already satisfied: ipython>=6.1.0 in ./venv38_ub/lib/python3.8/site-packages (from ipywidgets) (8.5.0)\n",
      "Requirement already satisfied: ipykernel>=4.5.1 in ./venv38_ub/lib/python3.8/site-packages (from ipywidgets) (6.15.2)\n",
      "Requirement already satisfied: traitlets>=4.3.1 in ./venv38_ub/lib/python3.8/site-packages (from ipywidgets) (5.3.0)\n",
      "Requirement already satisfied: backcall in ./venv38_ub/lib/python3.8/site-packages (from ipython>=6.1.0->ipywidgets) (0.2.0)\n",
      "Requirement already satisfied: pexpect>4.3; sys_platform != \"win32\" in ./venv38_ub/lib/python3.8/site-packages (from ipython>=6.1.0->ipywidgets) (4.8.0)\n",
      "Requirement already satisfied: pygments>=2.4.0 in ./venv38_ub/lib/python3.8/site-packages (from ipython>=6.1.0->ipywidgets) (2.13.0)\n",
      "Requirement already satisfied: decorator in ./venv38_ub/lib/python3.8/site-packages (from ipython>=6.1.0->ipywidgets) (5.1.1)\n",
      "Requirement already satisfied: prompt-toolkit<3.1.0,>3.0.1 in ./venv38_ub/lib/python3.8/site-packages (from ipython>=6.1.0->ipywidgets) (3.0.31)\n",
      "Requirement already satisfied: jedi>=0.16 in ./venv38_ub/lib/python3.8/site-packages (from ipython>=6.1.0->ipywidgets) (0.18.1)\n",
      "Requirement already satisfied: matplotlib-inline in ./venv38_ub/lib/python3.8/site-packages (from ipython>=6.1.0->ipywidgets) (0.1.6)\n",
      "Requirement already satisfied: stack-data in ./venv38_ub/lib/python3.8/site-packages (from ipython>=6.1.0->ipywidgets) (0.5.0)\n",
      "Requirement already satisfied: pickleshare in ./venv38_ub/lib/python3.8/site-packages (from ipython>=6.1.0->ipywidgets) (0.7.5)\n",
      "Requirement already satisfied: packaging in ./venv38_ub/lib/python3.8/site-packages (from ipykernel>=4.5.1->ipywidgets) (21.3)\n",
      "Requirement already satisfied: jupyter-client>=6.1.12 in ./venv38_ub/lib/python3.8/site-packages (from ipykernel>=4.5.1->ipywidgets) (7.3.5)\n",
      "Requirement already satisfied: tornado>=6.1 in ./venv38_ub/lib/python3.8/site-packages (from ipykernel>=4.5.1->ipywidgets) (6.2)\n",
      "Requirement already satisfied: debugpy>=1.0 in ./venv38_ub/lib/python3.8/site-packages (from ipykernel>=4.5.1->ipywidgets) (1.6.3)\n",
      "Requirement already satisfied: nest-asyncio in ./venv38_ub/lib/python3.8/site-packages (from ipykernel>=4.5.1->ipywidgets) (1.5.5)\n",
      "Requirement already satisfied: psutil in ./venv38_ub/lib/python3.8/site-packages (from ipykernel>=4.5.1->ipywidgets) (5.9.2)\n",
      "Requirement already satisfied: pyzmq>=17 in ./venv38_ub/lib/python3.8/site-packages (from ipykernel>=4.5.1->ipywidgets) (23.2.1)\n",
      "Requirement already satisfied: ptyprocess>=0.5 in ./venv38_ub/lib/python3.8/site-packages (from pexpect>4.3; sys_platform != \"win32\"->ipython>=6.1.0->ipywidgets) (0.7.0)\n",
      "Requirement already satisfied: wcwidth in ./venv38_ub/lib/python3.8/site-packages (from prompt-toolkit<3.1.0,>3.0.1->ipython>=6.1.0->ipywidgets) (0.2.5)\n",
      "Requirement already satisfied: parso<0.9.0,>=0.8.0 in ./venv38_ub/lib/python3.8/site-packages (from jedi>=0.16->ipython>=6.1.0->ipywidgets) (0.8.3)\n",
      "Requirement already satisfied: asttokens in ./venv38_ub/lib/python3.8/site-packages (from stack-data->ipython>=6.1.0->ipywidgets) (2.0.8)\n",
      "Requirement already satisfied: executing in ./venv38_ub/lib/python3.8/site-packages (from stack-data->ipython>=6.1.0->ipywidgets) (1.0.0)\n",
      "Requirement already satisfied: pure-eval in ./venv38_ub/lib/python3.8/site-packages (from stack-data->ipython>=6.1.0->ipywidgets) (0.2.2)\n",
      "Requirement already satisfied: pyparsing!=3.0.5,>=2.0.2 in ./venv38_ub/lib/python3.8/site-packages (from packaging->ipykernel>=4.5.1->ipywidgets) (3.0.9)\n",
      "Requirement already satisfied: entrypoints in ./venv38_ub/lib/python3.8/site-packages (from jupyter-client>=6.1.12->ipykernel>=4.5.1->ipywidgets) (0.4)\n",
      "Requirement already satisfied: python-dateutil>=2.8.2 in ./venv38_ub/lib/python3.8/site-packages (from jupyter-client>=6.1.12->ipykernel>=4.5.1->ipywidgets) (2.8.2)\n",
      "Requirement already satisfied: jupyter-core>=4.9.2 in ./venv38_ub/lib/python3.8/site-packages (from jupyter-client>=6.1.12->ipykernel>=4.5.1->ipywidgets) (4.11.1)\n",
      "Requirement already satisfied: six in ./venv38_ub/lib/python3.8/site-packages (from asttokens->stack-data->ipython>=6.1.0->ipywidgets) (1.16.0)\n",
      "Note: you may need to restart the kernel to use updated packages.\n"
     ]
    }
   ],
   "source": [
    "%pip install ipywidgets"
   ]
  },
  {
   "cell_type": "code",
   "execution_count": 4,
   "id": "c44a2e7f-1951-4e43-802f-a2db436e5101",
   "metadata": {
    "jupyter": {
     "outputs_hidden": true
    },
    "tags": []
   },
   "outputs": [
    {
     "name": "stdout",
     "output_type": "stream",
     "text": [
      "Requirement already satisfied: tqdm in ./venv38_ub/lib/python3.8/site-packages (4.64.1)\n",
      "Note: you may need to restart the kernel to use updated packages.\n"
     ]
    }
   ],
   "source": [
    "%pip install tqdm"
   ]
  },
  {
   "cell_type": "code",
   "execution_count": 5,
   "id": "4af78c58",
   "metadata": {
    "jupyter": {
     "outputs_hidden": true
    },
    "tags": []
   },
   "outputs": [
    {
     "name": "stdout",
     "output_type": "stream",
     "text": [
      "Requirement already satisfied: ipywidgets in ./venv38_ub/lib/python3.8/site-packages (8.0.2)\n",
      "Requirement already satisfied: ipython>=6.1.0 in ./venv38_ub/lib/python3.8/site-packages (from ipywidgets) (8.5.0)\n",
      "Requirement already satisfied: jupyterlab-widgets~=3.0 in ./venv38_ub/lib/python3.8/site-packages (from ipywidgets) (3.0.3)\n",
      "Requirement already satisfied: widgetsnbextension~=4.0 in ./venv38_ub/lib/python3.8/site-packages (from ipywidgets) (4.0.3)\n",
      "Requirement already satisfied: traitlets>=4.3.1 in ./venv38_ub/lib/python3.8/site-packages (from ipywidgets) (5.3.0)\n",
      "Requirement already satisfied: ipykernel>=4.5.1 in ./venv38_ub/lib/python3.8/site-packages (from ipywidgets) (6.15.2)\n",
      "Requirement already satisfied: pickleshare in ./venv38_ub/lib/python3.8/site-packages (from ipython>=6.1.0->ipywidgets) (0.7.5)\n",
      "Requirement already satisfied: pexpect>4.3; sys_platform != \"win32\" in ./venv38_ub/lib/python3.8/site-packages (from ipython>=6.1.0->ipywidgets) (4.8.0)\n",
      "Requirement already satisfied: pygments>=2.4.0 in ./venv38_ub/lib/python3.8/site-packages (from ipython>=6.1.0->ipywidgets) (2.13.0)\n",
      "Requirement already satisfied: matplotlib-inline in ./venv38_ub/lib/python3.8/site-packages (from ipython>=6.1.0->ipywidgets) (0.1.6)\n",
      "Requirement already satisfied: stack-data in ./venv38_ub/lib/python3.8/site-packages (from ipython>=6.1.0->ipywidgets) (0.5.0)\n",
      "Requirement already satisfied: prompt-toolkit<3.1.0,>3.0.1 in ./venv38_ub/lib/python3.8/site-packages (from ipython>=6.1.0->ipywidgets) (3.0.31)\n",
      "Requirement already satisfied: backcall in ./venv38_ub/lib/python3.8/site-packages (from ipython>=6.1.0->ipywidgets) (0.2.0)\n",
      "Requirement already satisfied: jedi>=0.16 in ./venv38_ub/lib/python3.8/site-packages (from ipython>=6.1.0->ipywidgets) (0.18.1)\n",
      "Requirement already satisfied: decorator in ./venv38_ub/lib/python3.8/site-packages (from ipython>=6.1.0->ipywidgets) (5.1.1)\n",
      "Requirement already satisfied: nest-asyncio in ./venv38_ub/lib/python3.8/site-packages (from ipykernel>=4.5.1->ipywidgets) (1.5.5)\n",
      "Requirement already satisfied: tornado>=6.1 in ./venv38_ub/lib/python3.8/site-packages (from ipykernel>=4.5.1->ipywidgets) (6.2)\n",
      "Requirement already satisfied: packaging in ./venv38_ub/lib/python3.8/site-packages (from ipykernel>=4.5.1->ipywidgets) (21.3)\n",
      "Requirement already satisfied: jupyter-client>=6.1.12 in ./venv38_ub/lib/python3.8/site-packages (from ipykernel>=4.5.1->ipywidgets) (7.3.5)\n",
      "Requirement already satisfied: psutil in ./venv38_ub/lib/python3.8/site-packages (from ipykernel>=4.5.1->ipywidgets) (5.9.2)\n",
      "Requirement already satisfied: debugpy>=1.0 in ./venv38_ub/lib/python3.8/site-packages (from ipykernel>=4.5.1->ipywidgets) (1.6.3)\n",
      "Requirement already satisfied: pyzmq>=17 in ./venv38_ub/lib/python3.8/site-packages (from ipykernel>=4.5.1->ipywidgets) (23.2.1)\n",
      "Requirement already satisfied: ptyprocess>=0.5 in ./venv38_ub/lib/python3.8/site-packages (from pexpect>4.3; sys_platform != \"win32\"->ipython>=6.1.0->ipywidgets) (0.7.0)\n",
      "Requirement already satisfied: asttokens in ./venv38_ub/lib/python3.8/site-packages (from stack-data->ipython>=6.1.0->ipywidgets) (2.0.8)\n",
      "Requirement already satisfied: executing in ./venv38_ub/lib/python3.8/site-packages (from stack-data->ipython>=6.1.0->ipywidgets) (1.0.0)\n",
      "Requirement already satisfied: pure-eval in ./venv38_ub/lib/python3.8/site-packages (from stack-data->ipython>=6.1.0->ipywidgets) (0.2.2)\n",
      "Requirement already satisfied: wcwidth in ./venv38_ub/lib/python3.8/site-packages (from prompt-toolkit<3.1.0,>3.0.1->ipython>=6.1.0->ipywidgets) (0.2.5)\n",
      "Requirement already satisfied: parso<0.9.0,>=0.8.0 in ./venv38_ub/lib/python3.8/site-packages (from jedi>=0.16->ipython>=6.1.0->ipywidgets) (0.8.3)\n",
      "Requirement already satisfied: pyparsing!=3.0.5,>=2.0.2 in ./venv38_ub/lib/python3.8/site-packages (from packaging->ipykernel>=4.5.1->ipywidgets) (3.0.9)\n",
      "Requirement already satisfied: python-dateutil>=2.8.2 in ./venv38_ub/lib/python3.8/site-packages (from jupyter-client>=6.1.12->ipykernel>=4.5.1->ipywidgets) (2.8.2)\n",
      "Requirement already satisfied: jupyter-core>=4.9.2 in ./venv38_ub/lib/python3.8/site-packages (from jupyter-client>=6.1.12->ipykernel>=4.5.1->ipywidgets) (4.11.1)\n",
      "Requirement already satisfied: entrypoints in ./venv38_ub/lib/python3.8/site-packages (from jupyter-client>=6.1.12->ipykernel>=4.5.1->ipywidgets) (0.4)\n",
      "Requirement already satisfied: six in ./venv38_ub/lib/python3.8/site-packages (from asttokens->stack-data->ipython>=6.1.0->ipywidgets) (1.16.0)\n",
      "Requirement already satisfied: jupyter-js-widgets-nbextension in ./venv38_ub/lib/python3.8/site-packages (0.0.2.dev0)\n",
      "Requirement already satisfied: traitlets>=4.1.0 in ./venv38_ub/lib/python3.8/site-packages (from jupyter-js-widgets-nbextension) (5.3.0)\n",
      "Requirement already satisfied: notebook>=4.1.0 in ./venv38_ub/lib/python3.8/site-packages (from jupyter-js-widgets-nbextension) (6.4.12)\n",
      "Requirement already satisfied: ipython>=4.0.0 in ./venv38_ub/lib/python3.8/site-packages (from jupyter-js-widgets-nbextension) (8.5.0)\n",
      "Requirement already satisfied: ipykernel>=4.2.2 in ./venv38_ub/lib/python3.8/site-packages (from jupyter-js-widgets-nbextension) (6.15.2)\n",
      "Requirement already satisfied: tornado>=6.1 in ./venv38_ub/lib/python3.8/site-packages (from notebook>=4.1.0->jupyter-js-widgets-nbextension) (6.2)\n",
      "Requirement already satisfied: nest-asyncio>=1.5 in ./venv38_ub/lib/python3.8/site-packages (from notebook>=4.1.0->jupyter-js-widgets-nbextension) (1.5.5)\n",
      "Requirement already satisfied: jinja2 in ./venv38_ub/lib/python3.8/site-packages (from notebook>=4.1.0->jupyter-js-widgets-nbextension) (3.1.2)\n",
      "Requirement already satisfied: Send2Trash>=1.8.0 in ./venv38_ub/lib/python3.8/site-packages (from notebook>=4.1.0->jupyter-js-widgets-nbextension) (1.8.0)\n",
      "Requirement already satisfied: ipython-genutils in ./venv38_ub/lib/python3.8/site-packages (from notebook>=4.1.0->jupyter-js-widgets-nbextension) (0.2.0)\n",
      "Requirement already satisfied: nbconvert>=5 in ./venv38_ub/lib/python3.8/site-packages (from notebook>=4.1.0->jupyter-js-widgets-nbextension) (7.0.0)\n",
      "Requirement already satisfied: terminado>=0.8.3 in ./venv38_ub/lib/python3.8/site-packages (from notebook>=4.1.0->jupyter-js-widgets-nbextension) (0.15.0)\n",
      "Requirement already satisfied: jupyter-client>=5.3.4 in ./venv38_ub/lib/python3.8/site-packages (from notebook>=4.1.0->jupyter-js-widgets-nbextension) (7.3.5)\n",
      "Requirement already satisfied: prometheus-client in ./venv38_ub/lib/python3.8/site-packages (from notebook>=4.1.0->jupyter-js-widgets-nbextension) (0.14.1)\n",
      "Requirement already satisfied: nbformat in ./venv38_ub/lib/python3.8/site-packages (from notebook>=4.1.0->jupyter-js-widgets-nbextension) (5.4.0)\n",
      "Requirement already satisfied: jupyter-core>=4.6.1 in ./venv38_ub/lib/python3.8/site-packages (from notebook>=4.1.0->jupyter-js-widgets-nbextension) (4.11.1)\n",
      "Requirement already satisfied: pyzmq>=17 in ./venv38_ub/lib/python3.8/site-packages (from notebook>=4.1.0->jupyter-js-widgets-nbextension) (23.2.1)\n",
      "Requirement already satisfied: argon2-cffi in ./venv38_ub/lib/python3.8/site-packages (from notebook>=4.1.0->jupyter-js-widgets-nbextension) (21.3.0)\n",
      "Requirement already satisfied: matplotlib-inline in ./venv38_ub/lib/python3.8/site-packages (from ipython>=4.0.0->jupyter-js-widgets-nbextension) (0.1.6)\n",
      "Requirement already satisfied: pygments>=2.4.0 in ./venv38_ub/lib/python3.8/site-packages (from ipython>=4.0.0->jupyter-js-widgets-nbextension) (2.13.0)\n",
      "Requirement already satisfied: pickleshare in ./venv38_ub/lib/python3.8/site-packages (from ipython>=4.0.0->jupyter-js-widgets-nbextension) (0.7.5)\n",
      "Requirement already satisfied: prompt-toolkit<3.1.0,>3.0.1 in ./venv38_ub/lib/python3.8/site-packages (from ipython>=4.0.0->jupyter-js-widgets-nbextension) (3.0.31)\n",
      "Requirement already satisfied: backcall in ./venv38_ub/lib/python3.8/site-packages (from ipython>=4.0.0->jupyter-js-widgets-nbextension) (0.2.0)\n",
      "Requirement already satisfied: stack-data in ./venv38_ub/lib/python3.8/site-packages (from ipython>=4.0.0->jupyter-js-widgets-nbextension) (0.5.0)\n",
      "Requirement already satisfied: pexpect>4.3; sys_platform != \"win32\" in ./venv38_ub/lib/python3.8/site-packages (from ipython>=4.0.0->jupyter-js-widgets-nbextension) (4.8.0)\n"
     ]
    },
    {
     "name": "stdout",
     "output_type": "stream",
     "text": [
      "Requirement already satisfied: decorator in ./venv38_ub/lib/python3.8/site-packages (from ipython>=4.0.0->jupyter-js-widgets-nbextension) (5.1.1)\n",
      "Requirement already satisfied: jedi>=0.16 in ./venv38_ub/lib/python3.8/site-packages (from ipython>=4.0.0->jupyter-js-widgets-nbextension) (0.18.1)\n",
      "Requirement already satisfied: debugpy>=1.0 in ./venv38_ub/lib/python3.8/site-packages (from ipykernel>=4.2.2->jupyter-js-widgets-nbextension) (1.6.3)\n",
      "Requirement already satisfied: psutil in ./venv38_ub/lib/python3.8/site-packages (from ipykernel>=4.2.2->jupyter-js-widgets-nbextension) (5.9.2)\n",
      "Requirement already satisfied: packaging in ./venv38_ub/lib/python3.8/site-packages (from ipykernel>=4.2.2->jupyter-js-widgets-nbextension) (21.3)\n",
      "Requirement already satisfied: MarkupSafe>=2.0 in ./venv38_ub/lib/python3.8/site-packages (from jinja2->notebook>=4.1.0->jupyter-js-widgets-nbextension) (2.1.1)\n",
      "Requirement already satisfied: beautifulsoup4 in ./venv38_ub/lib/python3.8/site-packages (from nbconvert>=5->notebook>=4.1.0->jupyter-js-widgets-nbextension) (4.11.1)\n",
      "Requirement already satisfied: nbclient>=0.5.0 in ./venv38_ub/lib/python3.8/site-packages (from nbconvert>=5->notebook>=4.1.0->jupyter-js-widgets-nbextension) (0.6.8)\n",
      "Requirement already satisfied: pandocfilters>=1.4.1 in ./venv38_ub/lib/python3.8/site-packages (from nbconvert>=5->notebook>=4.1.0->jupyter-js-widgets-nbextension) (1.5.0)\n",
      "Requirement already satisfied: bleach in ./venv38_ub/lib/python3.8/site-packages (from nbconvert>=5->notebook>=4.1.0->jupyter-js-widgets-nbextension) (5.0.1)\n",
      "Requirement already satisfied: lxml in ./venv38_ub/lib/python3.8/site-packages (from nbconvert>=5->notebook>=4.1.0->jupyter-js-widgets-nbextension) (4.9.1)\n",
      "Requirement already satisfied: tinycss2 in ./venv38_ub/lib/python3.8/site-packages (from nbconvert>=5->notebook>=4.1.0->jupyter-js-widgets-nbextension) (1.1.1)\n",
      "Requirement already satisfied: defusedxml in ./venv38_ub/lib/python3.8/site-packages (from nbconvert>=5->notebook>=4.1.0->jupyter-js-widgets-nbextension) (0.7.1)\n",
      "Requirement already satisfied: importlib-metadata>=3.6; python_version < \"3.10\" in ./venv38_ub/lib/python3.8/site-packages (from nbconvert>=5->notebook>=4.1.0->jupyter-js-widgets-nbextension) (4.12.0)\n",
      "Requirement already satisfied: jupyterlab-pygments in ./venv38_ub/lib/python3.8/site-packages (from nbconvert>=5->notebook>=4.1.0->jupyter-js-widgets-nbextension) (0.2.2)\n",
      "Requirement already satisfied: mistune<3,>=2.0.3 in ./venv38_ub/lib/python3.8/site-packages (from nbconvert>=5->notebook>=4.1.0->jupyter-js-widgets-nbextension) (2.0.4)\n",
      "Requirement already satisfied: ptyprocess; os_name != \"nt\" in ./venv38_ub/lib/python3.8/site-packages (from terminado>=0.8.3->notebook>=4.1.0->jupyter-js-widgets-nbextension) (0.7.0)\n",
      "Requirement already satisfied: entrypoints in ./venv38_ub/lib/python3.8/site-packages (from jupyter-client>=5.3.4->notebook>=4.1.0->jupyter-js-widgets-nbextension) (0.4)\n",
      "Requirement already satisfied: python-dateutil>=2.8.2 in ./venv38_ub/lib/python3.8/site-packages (from jupyter-client>=5.3.4->notebook>=4.1.0->jupyter-js-widgets-nbextension) (2.8.2)\n",
      "Requirement already satisfied: jsonschema>=2.6 in ./venv38_ub/lib/python3.8/site-packages (from nbformat->notebook>=4.1.0->jupyter-js-widgets-nbextension) (4.16.0)\n",
      "Requirement already satisfied: fastjsonschema in ./venv38_ub/lib/python3.8/site-packages (from nbformat->notebook>=4.1.0->jupyter-js-widgets-nbextension) (2.16.1)\n",
      "Requirement already satisfied: argon2-cffi-bindings in ./venv38_ub/lib/python3.8/site-packages (from argon2-cffi->notebook>=4.1.0->jupyter-js-widgets-nbextension) (21.2.0)\n",
      "Requirement already satisfied: wcwidth in ./venv38_ub/lib/python3.8/site-packages (from prompt-toolkit<3.1.0,>3.0.1->ipython>=4.0.0->jupyter-js-widgets-nbextension) (0.2.5)\n",
      "Requirement already satisfied: pure-eval in ./venv38_ub/lib/python3.8/site-packages (from stack-data->ipython>=4.0.0->jupyter-js-widgets-nbextension) (0.2.2)\n",
      "Requirement already satisfied: asttokens in ./venv38_ub/lib/python3.8/site-packages (from stack-data->ipython>=4.0.0->jupyter-js-widgets-nbextension) (2.0.8)\n",
      "Requirement already satisfied: executing in ./venv38_ub/lib/python3.8/site-packages (from stack-data->ipython>=4.0.0->jupyter-js-widgets-nbextension) (1.0.0)\n",
      "Requirement already satisfied: parso<0.9.0,>=0.8.0 in ./venv38_ub/lib/python3.8/site-packages (from jedi>=0.16->ipython>=4.0.0->jupyter-js-widgets-nbextension) (0.8.3)\n",
      "Requirement already satisfied: pyparsing!=3.0.5,>=2.0.2 in ./venv38_ub/lib/python3.8/site-packages (from packaging->ipykernel>=4.2.2->jupyter-js-widgets-nbextension) (3.0.9)\n",
      "Requirement already satisfied: soupsieve>1.2 in ./venv38_ub/lib/python3.8/site-packages (from beautifulsoup4->nbconvert>=5->notebook>=4.1.0->jupyter-js-widgets-nbextension) (2.3.2.post1)\n",
      "Requirement already satisfied: six>=1.9.0 in ./venv38_ub/lib/python3.8/site-packages (from bleach->nbconvert>=5->notebook>=4.1.0->jupyter-js-widgets-nbextension) (1.16.0)\n",
      "Requirement already satisfied: webencodings in ./venv38_ub/lib/python3.8/site-packages (from bleach->nbconvert>=5->notebook>=4.1.0->jupyter-js-widgets-nbextension) (0.5.1)\n",
      "Requirement already satisfied: zipp>=0.5 in ./venv38_ub/lib/python3.8/site-packages (from importlib-metadata>=3.6; python_version < \"3.10\"->nbconvert>=5->notebook>=4.1.0->jupyter-js-widgets-nbextension) (3.8.1)\n",
      "Requirement already satisfied: attrs>=17.4.0 in ./venv38_ub/lib/python3.8/site-packages (from jsonschema>=2.6->nbformat->notebook>=4.1.0->jupyter-js-widgets-nbextension) (22.1.0)\n",
      "Requirement already satisfied: importlib-resources>=1.4.0; python_version < \"3.9\" in ./venv38_ub/lib/python3.8/site-packages (from jsonschema>=2.6->nbformat->notebook>=4.1.0->jupyter-js-widgets-nbextension) (5.9.0)\n",
      "Requirement already satisfied: pkgutil-resolve-name>=1.3.10; python_version < \"3.9\" in ./venv38_ub/lib/python3.8/site-packages (from jsonschema>=2.6->nbformat->notebook>=4.1.0->jupyter-js-widgets-nbextension) (1.3.10)\n",
      "Requirement already satisfied: pyrsistent!=0.17.0,!=0.17.1,!=0.17.2,>=0.14.0 in ./venv38_ub/lib/python3.8/site-packages (from jsonschema>=2.6->nbformat->notebook>=4.1.0->jupyter-js-widgets-nbextension) (0.18.1)\n",
      "Requirement already satisfied: cffi>=1.0.1 in ./venv38_ub/lib/python3.8/site-packages (from argon2-cffi-bindings->argon2-cffi->notebook>=4.1.0->jupyter-js-widgets-nbextension) (1.15.1)\n",
      "Requirement already satisfied: pycparser in ./venv38_ub/lib/python3.8/site-packages (from cffi>=1.0.1->argon2-cffi-bindings->argon2-cffi->notebook>=4.1.0->jupyter-js-widgets-nbextension) (2.21)\n",
      "Enabling notebook extension jupyter-js-widgets/extension...\n",
      "      - Validating: \u001b[32mOK\u001b[0m\n"
     ]
    }
   ],
   "source": [
    "# Installation of required Libraries \n",
    "!pip install ipywidgets\n",
    "!pip install jupyter-js-widgets-nbextension\n",
    "!jupyter nbextension enable --py --sys-prefix widgetsnbextension"
   ]
  },
  {
   "cell_type": "code",
   "execution_count": 6,
   "id": "844a8df7",
   "metadata": {},
   "outputs": [
    {
     "name": "stdout",
     "output_type": "stream",
     "text": [
      "Requirement already satisfied: ipyfilechooser in ./venv38_ub/lib/python3.8/site-packages (0.6.0)\n",
      "Requirement already satisfied: ipywidgets in ./venv38_ub/lib/python3.8/site-packages (from ipyfilechooser) (8.0.2)\n",
      "Requirement already satisfied: ipython>=6.1.0 in ./venv38_ub/lib/python3.8/site-packages (from ipywidgets->ipyfilechooser) (8.5.0)\n",
      "Requirement already satisfied: jupyterlab-widgets~=3.0 in ./venv38_ub/lib/python3.8/site-packages (from ipywidgets->ipyfilechooser) (3.0.3)\n",
      "Requirement already satisfied: widgetsnbextension~=4.0 in ./venv38_ub/lib/python3.8/site-packages (from ipywidgets->ipyfilechooser) (4.0.3)\n",
      "Requirement already satisfied: ipykernel>=4.5.1 in ./venv38_ub/lib/python3.8/site-packages (from ipywidgets->ipyfilechooser) (6.15.2)\n",
      "Requirement already satisfied: traitlets>=4.3.1 in ./venv38_ub/lib/python3.8/site-packages (from ipywidgets->ipyfilechooser) (5.3.0)\n",
      "Requirement already satisfied: pickleshare in ./venv38_ub/lib/python3.8/site-packages (from ipython>=6.1.0->ipywidgets->ipyfilechooser) (0.7.5)\n",
      "Requirement already satisfied: matplotlib-inline in ./venv38_ub/lib/python3.8/site-packages (from ipython>=6.1.0->ipywidgets->ipyfilechooser) (0.1.6)\n",
      "Requirement already satisfied: prompt-toolkit<3.1.0,>3.0.1 in ./venv38_ub/lib/python3.8/site-packages (from ipython>=6.1.0->ipywidgets->ipyfilechooser) (3.0.31)\n",
      "Requirement already satisfied: pexpect>4.3; sys_platform != \"win32\" in ./venv38_ub/lib/python3.8/site-packages (from ipython>=6.1.0->ipywidgets->ipyfilechooser) (4.8.0)\n",
      "Requirement already satisfied: jedi>=0.16 in ./venv38_ub/lib/python3.8/site-packages (from ipython>=6.1.0->ipywidgets->ipyfilechooser) (0.18.1)\n",
      "Requirement already satisfied: stack-data in ./venv38_ub/lib/python3.8/site-packages (from ipython>=6.1.0->ipywidgets->ipyfilechooser) (0.5.0)\n",
      "Requirement already satisfied: decorator in ./venv38_ub/lib/python3.8/site-packages (from ipython>=6.1.0->ipywidgets->ipyfilechooser) (5.1.1)\n",
      "Requirement already satisfied: pygments>=2.4.0 in ./venv38_ub/lib/python3.8/site-packages (from ipython>=6.1.0->ipywidgets->ipyfilechooser) (2.13.0)\n",
      "Requirement already satisfied: backcall in ./venv38_ub/lib/python3.8/site-packages (from ipython>=6.1.0->ipywidgets->ipyfilechooser) (0.2.0)\n",
      "Requirement already satisfied: psutil in ./venv38_ub/lib/python3.8/site-packages (from ipykernel>=4.5.1->ipywidgets->ipyfilechooser) (5.9.2)\n",
      "Requirement already satisfied: pyzmq>=17 in ./venv38_ub/lib/python3.8/site-packages (from ipykernel>=4.5.1->ipywidgets->ipyfilechooser) (23.2.1)\n",
      "Requirement already satisfied: tornado>=6.1 in ./venv38_ub/lib/python3.8/site-packages (from ipykernel>=4.5.1->ipywidgets->ipyfilechooser) (6.2)\n",
      "Requirement already satisfied: debugpy>=1.0 in ./venv38_ub/lib/python3.8/site-packages (from ipykernel>=4.5.1->ipywidgets->ipyfilechooser) (1.6.3)\n",
      "Requirement already satisfied: packaging in ./venv38_ub/lib/python3.8/site-packages (from ipykernel>=4.5.1->ipywidgets->ipyfilechooser) (21.3)\n",
      "Requirement already satisfied: nest-asyncio in ./venv38_ub/lib/python3.8/site-packages (from ipykernel>=4.5.1->ipywidgets->ipyfilechooser) (1.5.5)\n",
      "Requirement already satisfied: jupyter-client>=6.1.12 in ./venv38_ub/lib/python3.8/site-packages (from ipykernel>=4.5.1->ipywidgets->ipyfilechooser) (7.3.5)\n",
      "Requirement already satisfied: wcwidth in ./venv38_ub/lib/python3.8/site-packages (from prompt-toolkit<3.1.0,>3.0.1->ipython>=6.1.0->ipywidgets->ipyfilechooser) (0.2.5)\n",
      "Requirement already satisfied: ptyprocess>=0.5 in ./venv38_ub/lib/python3.8/site-packages (from pexpect>4.3; sys_platform != \"win32\"->ipython>=6.1.0->ipywidgets->ipyfilechooser) (0.7.0)\n",
      "Requirement already satisfied: parso<0.9.0,>=0.8.0 in ./venv38_ub/lib/python3.8/site-packages (from jedi>=0.16->ipython>=6.1.0->ipywidgets->ipyfilechooser) (0.8.3)\n",
      "Requirement already satisfied: executing in ./venv38_ub/lib/python3.8/site-packages (from stack-data->ipython>=6.1.0->ipywidgets->ipyfilechooser) (1.0.0)\n",
      "Requirement already satisfied: pure-eval in ./venv38_ub/lib/python3.8/site-packages (from stack-data->ipython>=6.1.0->ipywidgets->ipyfilechooser) (0.2.2)\n",
      "Requirement already satisfied: asttokens in ./venv38_ub/lib/python3.8/site-packages (from stack-data->ipython>=6.1.0->ipywidgets->ipyfilechooser) (2.0.8)\n",
      "Requirement already satisfied: pyparsing!=3.0.5,>=2.0.2 in ./venv38_ub/lib/python3.8/site-packages (from packaging->ipykernel>=4.5.1->ipywidgets->ipyfilechooser) (3.0.9)\n",
      "Requirement already satisfied: jupyter-core>=4.9.2 in ./venv38_ub/lib/python3.8/site-packages (from jupyter-client>=6.1.12->ipykernel>=4.5.1->ipywidgets->ipyfilechooser) (4.11.1)\n",
      "Requirement already satisfied: entrypoints in ./venv38_ub/lib/python3.8/site-packages (from jupyter-client>=6.1.12->ipykernel>=4.5.1->ipywidgets->ipyfilechooser) (0.4)\n",
      "Requirement already satisfied: python-dateutil>=2.8.2 in ./venv38_ub/lib/python3.8/site-packages (from jupyter-client>=6.1.12->ipykernel>=4.5.1->ipywidgets->ipyfilechooser) (2.8.2)\n",
      "Requirement already satisfied: six in ./venv38_ub/lib/python3.8/site-packages (from asttokens->stack-data->ipython>=6.1.0->ipywidgets->ipyfilechooser) (1.16.0)\n"
     ]
    }
   ],
   "source": [
    "!pip install ipyfilechooser"
   ]
  },
  {
   "cell_type": "markdown",
   "id": "a7fadfc0-0020-455b-b1e6-910a8b72209c",
   "metadata": {},
   "source": [
    "### Dependencies and Setup\n",
    "<font color='red'>All imports put here.</font>"
   ]
  },
  {
   "cell_type": "code",
   "execution_count": 1,
   "id": "fa7d1a5b-c24b-4b2a-9081-4f0a1c504a8f",
   "metadata": {},
   "outputs": [
    {
     "name": "stdout",
     "output_type": "stream",
     "text": [
      "1.10.1+cu102\n"
     ]
    }
   ],
   "source": [
    "import torch\n",
    "import os\n",
    "import ipywidgets as widgets\n",
    "from subprocess import Popen\n",
    "print(torch.__version__)\n",
    "from pathlib import Path"
   ]
  },
  {
   "cell_type": "markdown",
   "id": "b247b960",
   "metadata": {},
   "source": [
    "### US-03\n",
    "Data folder that stores different subfolders to store different types of datasets accordingly"
   ]
  },
  {
   "cell_type": "code",
   "execution_count": 9,
   "id": "850b1973",
   "metadata": {},
   "outputs": [],
   "source": [
    "# Create data folder if it does not exist \n",
    "\n",
    "data_directory = Path('./data')\n",
    "\n",
    "\n",
    "if not os.path.exists(data_directory):\n",
    "    os.makedirs(data_directory)"
   ]
  },
  {
   "cell_type": "code",
   "execution_count": 11,
   "id": "3d1b5867",
   "metadata": {},
   "outputs": [
    {
     "name": "stdout",
     "output_type": "stream",
     "text": [
      "How many datasets would you like to upload?\n"
     ]
    },
    {
     "data": {
      "application/vnd.jupyter.widget-view+json": {
       "model_id": "414b1c6e88d94744a781e7c9ef8fd15c",
       "version_major": 2,
       "version_minor": 0
      },
      "text/plain": [
       "BoundedIntText(value=1, description='Datasets:', max=10)"
      ]
     },
     "execution_count": 11,
     "metadata": {},
     "output_type": "execute_result"
    }
   ],
   "source": [
    "# Get user to input the number of folders needed \n",
    "print(\"How many datasets would you like to upload?\")\n",
    "inputbounded = widgets.BoundedIntText(\n",
    "    value=1,\n",
    "    min=0,\n",
    "    max=10,\n",
    "    step=1,\n",
    "    description='Datasets:',\n",
    "    disabled=False\n",
    ")\n",
    "inputbounded"
   ]
  },
  {
   "cell_type": "code",
   "execution_count": null,
   "id": "485dc8d7",
   "metadata": {},
   "outputs": [],
   "source": [
    "# Takes in user input folder name for datasets to be created in \"./data/_____\"\n",
    "numdatasets = inputbounded.value\n",
    "count = 0\n",
    "\n",
    "while count < numdatasets:\n",
    "    foldername = input(\"Enter Dataset Name: \")\n",
    "    \n",
    "    directory = data_directory/foldername\n",
    "    if not os.path.exists(directory):\n",
    "        os.makedirs(directory)\n",
    "        count += 1\n",
    "        print(\"Folder \" +foldername + \" is created.\")\n",
    "        print(\"Please upload video data to this file path: \"+ str(directory))\n",
    "    else:\n",
    "        print(\"Invalid Folder Name!\")"
   ]
  },
  {
   "cell_type": "markdown",
   "id": "e5312f9c",
   "metadata": {},
   "source": [
    "### US-04 \n",
    "Select Video to playback"
   ]
  },
  {
   "cell_type": "code",
   "execution_count": 11,
   "id": "4578ab5c",
   "metadata": {},
   "outputs": [
    {
     "name": "stdout",
     "output_type": "stream",
     "text": [
      "Please choose a dataset\n"
     ]
    },
    {
     "data": {
      "application/vnd.jupyter.widget-view+json": {
       "model_id": "493b5a8ae08645c1936b29df0df3949f",
       "version_major": 2,
       "version_minor": 0
      },
      "text/plain": [
       "Dropdown(description='Dataset:', options=('test',), value='test')"
      ]
     },
     "execution_count": 11,
     "metadata": {},
     "output_type": "execute_result"
    }
   ],
   "source": [
    "# Select a folder from the datasets folder created\n",
    "list_files = os.listdir(data_directory)\n",
    "print(\"Please choose a dataset\")\n",
    "folderbounded = widgets.Dropdown(\n",
    "    options=list_files,\n",
    "    description = 'Dataset:',\n",
    "    disabled=False\n",
    ")\n",
    "folderbounded"
   ]
  },
  {
   "cell_type": "code",
   "execution_count": 12,
   "id": "cf3f0873",
   "metadata": {},
   "outputs": [
    {
     "name": "stdout",
     "output_type": "stream",
     "text": [
      "Please select a video to playback.\n"
     ]
    },
    {
     "data": {
      "application/vnd.jupyter.widget-view+json": {
       "model_id": "04c77c1c48b3468b87569e78d105cbcb",
       "version_major": 2,
       "version_minor": 0
      },
      "text/plain": [
       "Dropdown(description='data\\\\test:', options=(), value=None)"
      ]
     },
     "execution_count": 12,
     "metadata": {},
     "output_type": "execute_result"
    }
   ],
   "source": [
    "folder_name = data_directory/folderbounded.value\n",
    "\n",
    "# Select a folder from the datasets folder created\n",
    "list_files = os.listdir(folder_name)\n",
    "        \n",
    "print(\"Please select a video to playback.\")      \n",
    "filebounded = widgets.Dropdown(options=list_files,\n",
    "                               description = str(folder_name)+':',\n",
    "                               disabled=False)\n",
    "filebounded"
   ]
  },
  {
   "cell_type": "code",
   "execution_count": 13,
   "id": "0b3605cb",
   "metadata": {},
   "outputs": [
    {
     "ename": "TypeError",
     "evalue": "unsupported operand type(s) for /: 'WindowsPath' and 'NoneType'",
     "output_type": "error",
     "traceback": [
      "\u001b[1;31m---------------------------------------------------------------------------\u001b[0m",
      "\u001b[1;31mTypeError\u001b[0m                                 Traceback (most recent call last)",
      "Cell \u001b[1;32mIn [13], line 3\u001b[0m\n\u001b[0;32m      1\u001b[0m \u001b[38;5;28;01mfrom\u001b[39;00m \u001b[38;5;21;01mIPython\u001b[39;00m\u001b[38;5;21;01m.\u001b[39;00m\u001b[38;5;21;01mdisplay\u001b[39;00m \u001b[38;5;28;01mimport\u001b[39;00m Video\n\u001b[1;32m----> 3\u001b[0m Video(\u001b[43mfolder_name\u001b[49m\u001b[38;5;241;43m/\u001b[39;49m\u001b[43mfilebounded\u001b[49m\u001b[38;5;241;43m.\u001b[39;49m\u001b[43mvalue\u001b[49m, embed\u001b[38;5;241m=\u001b[39m\u001b[38;5;28;01mTrue\u001b[39;00m)\n",
      "\u001b[1;31mTypeError\u001b[0m: unsupported operand type(s) for /: 'WindowsPath' and 'NoneType'"
     ]
    }
   ],
   "source": [
    "from IPython.display import Video\n",
    "\n",
    "Video(folder_name/filebounded.value, embed=True) "
   ]
  },
  {
   "cell_type": "markdown",
   "id": "466be9d9-ac20-4e39-ae5d-a850d22a8220",
   "metadata": {},
   "source": [
    "### US-06\n",
    "Loading a model\n"
   ]
  },
  {
   "cell_type": "code",
   "execution_count": 3,
   "id": "dbe03f58-fa83-425a-9660-7c2dbec9cb10",
   "metadata": {
    "tags": []
   },
   "outputs": [
    {
     "data": {
      "application/vnd.jupyter.widget-view+json": {
       "model_id": "34cbda2d3fec4a66964b600465838bb8",
       "version_major": 2,
       "version_minor": 0
      },
      "text/plain": [
       "Dropdown(description='Choose Model', options=('PDAN_TSU_RGB', 'test1', 'test2'), value='PDAN_TSU_RGB')"
      ]
     },
     "execution_count": 3,
     "metadata": {},
     "output_type": "execute_result"
    }
   ],
   "source": [
    "mylist = os.listdir(\"trained_model\")\n",
    "selectedModel = widgets.Dropdown(\n",
    "    options=mylist,\n",
    "    value = mylist[0],\n",
    "    description = 'Choose Model',\n",
    "    disabled=False\n",
    ")\n",
    "selectedModel"
   ]
  },
  {
   "cell_type": "code",
   "execution_count": 4,
   "id": "eb1c27ed-5275-4dd5-b8a5-cb759ca12a1d",
   "metadata": {},
   "outputs": [
    {
     "data": {
      "text/plain": [
       "'PDAN_TSU_RGB'"
      ]
     },
     "execution_count": 4,
     "metadata": {},
     "output_type": "execute_result"
    }
   ],
   "source": [
    "selectedModel.value"
   ]
  },
  {
   "cell_type": "markdown",
   "id": "85fe3dca",
   "metadata": {},
   "source": [
    "### US-07\n",
    "Choose dataset from TSU project"
   ]
  },
  {
   "cell_type": "code",
   "execution_count": 5,
   "id": "20023ff1",
   "metadata": {},
   "outputs": [
    {
     "data": {
      "application/vnd.jupyter.widget-view+json": {
       "model_id": "dc6d37adce80411ca901f92b2b06c7a7",
       "version_major": 2,
       "version_minor": 0
      },
      "text/plain": [
       "Dropdown(description='Choose Feature', options=('i3d', '3DPose'), value='i3d')"
      ]
     },
     "execution_count": 5,
     "metadata": {},
     "output_type": "execute_result"
    }
   ],
   "source": [
    "selectedFeatureData = widgets.Dropdown(\n",
    "    options=[\"i3d\", \"3DPose\"],\n",
    "    value = \"i3d\",\n",
    "    description = 'Choose Feature',\n",
    "    disabled=False\n",
    ")\n",
    "\n",
    "selectedFeatureData"
   ]
  },
  {
   "cell_type": "code",
   "execution_count": 6,
   "id": "f9c31595",
   "metadata": {},
   "outputs": [
    {
     "data": {
      "text/plain": [
       "'./Toyota_Smarthome/pipline/data/TSU_RGB_i3d_feat/RGB_i3d_16frames_64000_SSD/'"
      ]
     },
     "execution_count": 6,
     "metadata": {},
     "output_type": "execute_result"
    }
   ],
   "source": [
    "if (selectedFeatureData.value == \"i3d\"):\n",
    "    dataPath = \"./Toyota_Smarthome/pipline/data/TSU_RGB_i3d_feat/RGB_i3d_16frames_64000_SSD/\"\n",
    "else:\n",
    "    dataPath = \"./Toyota_Smarthome/pipline/data/TSU_3DPose_AGCN_feat/2sAGCN_16frames_64000/\"\n",
    "\n",
    "dataPath"
   ]
  },
  {
   "cell_type": "code",
   "execution_count": 7,
   "id": "7350c494",
   "metadata": {},
   "outputs": [
    {
     "name": "stdout",
     "output_type": "stream",
     "text": [
      "Random_SEED!!!: 0\n",
      "./trained_model/PDAN_TSU_RGB\n",
      "batch_size: 2\n",
      "cuda_avail False\n",
      "RGB mode ./Toyota_Smarthome/pipline/data/TSU_RGB_i3d_feat/RGB_i3d_16frames_64000_SSD/\n"
     ]
    },
    {
     "name": "stderr",
     "output_type": "stream",
     "text": [
      " 16%|█▌        | 87/536 [00:07<00:29, 15.24it/s]"
     ]
    }
   ],
   "source": [
    "!chmod 755 -R ./Toyota_Smarthome/pipline/run_PDAN.sh\n",
    "\n",
    "#linux\n",
    "Process=Popen(\"./Toyota_Smarthome/pipline/run_PDAN.sh %s %s\" % (str(selectedModel.value), str(dataPath)), shell=True)\n",
    "#!./Toyota_Smarthome/pipline/run_PDAN.sh selectedModel"
   ]
  },
  {
   "cell_type": "markdown",
   "id": "8f761b35",
   "metadata": {},
   "source": [
    "### US-09\n",
    "Choose a dataset subfolder from the data folder to use for training"
   ]
  },
  {
   "cell_type": "code",
   "execution_count": 8,
   "id": "8895fdfc",
   "metadata": {},
   "outputs": [
    {
     "ename": "NameError",
     "evalue": "name 'data_directory' is not defined",
     "output_type": "error",
     "traceback": [
      "\u001b[0;31m---------------------------------------------------------------------------\u001b[0m",
      "\u001b[0;31mNameError\u001b[0m                                 Traceback (most recent call last)",
      "Cell \u001b[0;32mIn [8], line 3\u001b[0m\n\u001b[1;32m      1\u001b[0m \u001b[38;5;28;01mfrom\u001b[39;00m \u001b[38;5;21;01mipyfilechooser\u001b[39;00m \u001b[38;5;28;01mimport\u001b[39;00m FileChooser\n\u001b[0;32m----> 3\u001b[0m starting_directory \u001b[38;5;241m=\u001b[39m \u001b[43mdata_directory\u001b[49m\n\u001b[1;32m      4\u001b[0m folderupload \u001b[38;5;241m=\u001b[39m FileChooser(starting_directory)\n\u001b[1;32m      5\u001b[0m \u001b[38;5;66;03m# Switch to folder-only mode\u001b[39;00m\n",
      "\u001b[0;31mNameError\u001b[0m: name 'data_directory' is not defined"
     ]
    }
   ],
   "source": [
    "from ipyfilechooser import FileChooser\n",
    "\n",
    "starting_directory = data_directory\n",
    "folderupload = FileChooser(starting_directory)\n",
    "# Switch to folder-only mode\n",
    "folderupload.show_only_dirs = True\n",
    "folderupload.title = '<b>Folder Upload<b>'\n",
    "display(folderupload)"
   ]
  },
  {
   "cell_type": "code",
   "execution_count": 20,
   "id": "c158718b",
   "metadata": {},
   "outputs": [
    {
     "name": "stdout",
     "output_type": "stream",
     "text": [
      "/mnt/c/Users/Admin/.vscode/ICT3104-NVIDIA/T01-nvidia-jupyternotebookenv/data/test/\n",
      "/mnt/c/Users/Admin/.vscode/ICT3104-NVIDIA/T01-nvidia-jupyternotebookenv/data/test\n"
     ]
    }
   ],
   "source": [
    "print(folderupload.selected)\n",
    "print(folderupload.selected_path)"
   ]
  },
  {
   "cell_type": "markdown",
   "id": "f100de38",
   "metadata": {},
   "source": [
    "### US-11\n",
    "Name model that you are going to train"
   ]
  },
  {
   "cell_type": "code",
   "execution_count": 12,
   "id": "9bc41db9",
   "metadata": {},
   "outputs": [
    {
     "name": "stdout",
     "output_type": "stream",
     "text": [
      "New model name: woi\n",
      "Model ./trained_model/woi has been initialized.\n",
      "Proceed to next step to train the model\n"
     ]
    }
   ],
   "source": [
    "modelDir = \"./trained_model/\"\n",
    "while (modelDir == \"./trained_model/\"):\n",
    "    newModel = input(\"New model name: \")\n",
    "    modelDir += newModel\n",
    "    if not os.path.exists(modelDir):\n",
    "        os.makedirs(modelDir)\n",
    "        print(\"Model \" + modelDir + \" has been initialized.\")\n",
    "        print(\"Proceed to next step to train the model\")\n",
    "    else:\n",
    "        modelDir = \"./trained_model/\"\n",
    "        print(\"Model name exists!\")"
   ]
  },
  {
   "cell_type": "code",
   "execution_count": 13,
   "id": "6bc1a831",
   "metadata": {},
   "outputs": [
    {
     "data": {
      "text/plain": [
       "'woi'"
      ]
     },
     "execution_count": 13,
     "metadata": {},
     "output_type": "execute_result"
    }
   ],
   "source": [
    "newModel"
   ]
  },
  {
   "cell_type": "markdown",
   "id": "5e659b41",
   "metadata": {},
   "source": [
    "### US-12\n",
    "take in batch size and epoch"
   ]
  },
  {
   "cell_type": "code",
   "execution_count": 16,
   "id": "0787e18e",
   "metadata": {},
   "outputs": [
    {
     "name": "stdout",
     "output_type": "stream",
     "text": [
      "Enter epoch for training sequence: 1\n",
      "Enter batch_size for training sequence: 1\n"
     ]
    }
   ],
   "source": [
    "epoch = int(input(\"Enter epoch for training sequence: \"))\n",
    "batch_size = input(\"Enter batch_size for training sequence: \")   \n",
    "    "
   ]
  },
  {
   "cell_type": "markdown",
   "id": "4a01df8d",
   "metadata": {},
   "source": [
    "### US-10\n",
    "train model with separate .py configuration"
   ]
  },
  {
   "cell_type": "code",
   "execution_count": 17,
   "id": "8114dc1b",
   "metadata": {},
   "outputs": [
    {
     "name": "stdout",
     "output_type": "stream",
     "text": [
      "Random_SEED!!!: 0\n",
      "./trained_model/woi\n",
      "batch_size: 1\n",
      "cuda_avail False\n",
      "RGB mode ./Toyota_Smarthome/pipline/data/TSU_RGB_i3d_feat/RGB_i3d_16frames_64000_SSD/\n"
     ]
    },
    {
     "name": "stderr",
     "output_type": "stream",
     "text": [
      "100%|██████████| 536/536 [00:37<00:00, 14.27it/s]\n",
      "100%|██████████| 536/536 [00:27<00:00, 19.42it/s]\n",
      "Traceback (most recent call last):\n",
      "  File \"./Toyota_Smarthome/pipline/train.py\", line 319, in <module>\n",
      "    model=torch.nn.DataParallel(model)\n",
      "NameError: name 'model' is not defined\n"
     ]
    }
   ],
   "source": [
    "!chmod 755 -R ./Toyota_Smarthome/pipline/run_PDAN.sh\n",
    "# for now\n",
    "dataPath = \"./Toyota_Smarthome/pipline/data/TSU_RGB_i3d_feat/RGB_i3d_16frames_64000_SSD/\"\n",
    "#linux\n",
    "Process=Popen(\"./Toyota_Smarthome/pipline/run_PDAN.sh %s %s %s %s\" % (str(newModel), str(dataPath), str(epoch), str(batch_size)), shell=True)"
   ]
  },
  {
   "cell_type": "markdown",
   "id": "08621e64",
   "metadata": {},
   "source": [
    "### US-16\n",
    "Choose a dataset subfolder from the data folder to use for testing"
   ]
  },
  {
   "cell_type": "code",
   "execution_count": 10,
   "id": "9f2c72e2",
   "metadata": {},
   "outputs": [
    {
     "data": {
      "application/vnd.jupyter.widget-view+json": {
       "model_id": "14749b0623354a9e8fed6e3182072ffb",
       "version_major": 2,
       "version_minor": 0
      },
      "text/plain": [
       "Box(children=(Label(value='Choose a dataset:'), RadioButtons(layout=Layout(width='max-content'), options=('.ip…"
      ]
     },
     "execution_count": 10,
     "metadata": {},
     "output_type": "execute_result"
    }
   ],
   "source": [
    "# Files / folders under data folder\n",
    "datalist = os.listdir('./Toyota_Smarthome/pipline/data/')\n",
    "widgets.Box(\n",
    "    [\n",
    "        widgets.Label(value='Choose a dataset:'),\n",
    "        widgets.RadioButtons(\n",
    "            options=datalist,\n",
    "            layout={'width': 'max-content'}\n",
    "        )\n",
    "    ]\n",
    ")"
   ]
  },
  {
   "cell_type": "code",
   "execution_count": null,
   "id": "9ce3beae",
   "metadata": {},
   "outputs": [],
   "source": []
  }
 ],
 "metadata": {
  "kernelspec": {
   "display_name": "Python 3 (ipykernel)",
   "language": "python",
   "name": "python3"
  },
  "language_info": {
   "codemirror_mode": {
    "name": "ipython",
    "version": 3
   },
   "file_extension": ".py",
   "mimetype": "text/x-python",
   "name": "python",
   "nbconvert_exporter": "python",
   "pygments_lexer": "ipython3",
   "version": "3.8.10"
  }
 },
 "nbformat": 4,
 "nbformat_minor": 5
}
