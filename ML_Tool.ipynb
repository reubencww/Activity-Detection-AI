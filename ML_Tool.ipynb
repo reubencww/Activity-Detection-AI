{
 "cells": [
  {
   "cell_type": "markdown",
   "id": "67e46454",
   "metadata": {},
   "source": [
    "### US-01\n",
    "Ensure jupyter notebook has python3.x \n"
   ]
  },
  {
   "cell_type": "code",
   "execution_count": 1,
   "id": "505d9fb6-dec4-4ed3-8fa2-2c2cfbd5ff01",
   "metadata": {},
   "outputs": [
    {
     "name": "stdout",
     "output_type": "stream",
     "text": [
      "3.8.10\n"
     ]
    }
   ],
   "source": [
    "from platform import python_version\n",
    "\n",
    "print(python_version())"
   ]
  },
  {
   "cell_type": "markdown",
   "id": "bcfd116b-ac81-4726-bd66-06e86c940ef6",
   "metadata": {},
   "source": [
    "### Installing Dependencies\n"
   ]
  },
  {
   "cell_type": "code",
   "execution_count": 2,
   "id": "f59cb734-9a3e-4927-951b-34f48710f156",
   "metadata": {},
   "outputs": [
    {
     "name": "stdout",
     "output_type": "stream",
     "text": [
      "Looking in links: https://download.pytorch.org/ehl/torch_stable.html\n",
      "Requirement already satisfied: torch==1.10.1 in /mnt/c/Users/rcwww/Desktop/Y3T1/ICT3104-Software-Management/Project/T01-nvidia-jupyternotebookenv/venv38_ub/lib/python3.8/site-packages (1.10.1)\n",
      "Requirement already satisfied: torchvision==0.11.2 in /mnt/c/Users/rcwww/Desktop/Y3T1/ICT3104-Software-Management/Project/T01-nvidia-jupyternotebookenv/venv38_ub/lib/python3.8/site-packages (0.11.2)\n",
      "Requirement already satisfied: torchaudio==0.10.1 in /mnt/c/Users/rcwww/Desktop/Y3T1/ICT3104-Software-Management/Project/T01-nvidia-jupyternotebookenv/venv38_ub/lib/python3.8/site-packages (0.10.1)\n",
      "Requirement already satisfied: typing-extensions in /mnt/c/Users/rcwww/Desktop/Y3T1/ICT3104-Software-Management/Project/T01-nvidia-jupyternotebookenv/venv38_ub/lib/python3.8/site-packages (from torch==1.10.1) (4.3.0)\n",
      "Requirement already satisfied: numpy in /mnt/c/Users/rcwww/Desktop/Y3T1/ICT3104-Software-Management/Project/T01-nvidia-jupyternotebookenv/venv38_ub/lib/python3.8/site-packages (from torchvision==0.11.2) (1.23.3)\n",
      "Requirement already satisfied: pillow!=8.3.0,>=5.3.0 in /mnt/c/Users/rcwww/Desktop/Y3T1/ICT3104-Software-Management/Project/T01-nvidia-jupyternotebookenv/venv38_ub/lib/python3.8/site-packages (from torchvision==0.11.2) (9.2.0)\n",
      "Note: you may need to restart the kernel to use updated packages.\n",
      "Requirement already satisfied: timm==0.4.12 in /mnt/c/Users/rcwww/Desktop/Y3T1/ICT3104-Software-Management/Project/T01-nvidia-jupyternotebookenv/venv38_ub/lib/python3.8/site-packages (0.4.12)\n",
      "Requirement already satisfied: torchvision in /mnt/c/Users/rcwww/Desktop/Y3T1/ICT3104-Software-Management/Project/T01-nvidia-jupyternotebookenv/venv38_ub/lib/python3.8/site-packages (from timm==0.4.12) (0.11.2)\n",
      "Requirement already satisfied: torch>=1.4 in /mnt/c/Users/rcwww/Desktop/Y3T1/ICT3104-Software-Management/Project/T01-nvidia-jupyternotebookenv/venv38_ub/lib/python3.8/site-packages (from timm==0.4.12) (1.10.1)\n",
      "Requirement already satisfied: numpy in /mnt/c/Users/rcwww/Desktop/Y3T1/ICT3104-Software-Management/Project/T01-nvidia-jupyternotebookenv/venv38_ub/lib/python3.8/site-packages (from torchvision->timm==0.4.12) (1.23.3)\n",
      "Requirement already satisfied: pillow!=8.3.0,>=5.3.0 in /mnt/c/Users/rcwww/Desktop/Y3T1/ICT3104-Software-Management/Project/T01-nvidia-jupyternotebookenv/venv38_ub/lib/python3.8/site-packages (from torchvision->timm==0.4.12) (9.2.0)\n",
      "Requirement already satisfied: typing-extensions in /mnt/c/Users/rcwww/Desktop/Y3T1/ICT3104-Software-Management/Project/T01-nvidia-jupyternotebookenv/venv38_ub/lib/python3.8/site-packages (from torch>=1.4->timm==0.4.12) (4.3.0)\n",
      "Note: you may need to restart the kernel to use updated packages.\n",
      "Requirement already satisfied: scikit-learn in /mnt/c/Users/rcwww/Desktop/Y3T1/ICT3104-Software-Management/Project/T01-nvidia-jupyternotebookenv/venv38_ub/lib/python3.8/site-packages (1.1.2)\n",
      "Requirement already satisfied: threadpoolctl>=2.0.0 in /mnt/c/Users/rcwww/Desktop/Y3T1/ICT3104-Software-Management/Project/T01-nvidia-jupyternotebookenv/venv38_ub/lib/python3.8/site-packages (from scikit-learn) (3.1.0)\n",
      "Requirement already satisfied: scipy>=1.3.2 in /mnt/c/Users/rcwww/Desktop/Y3T1/ICT3104-Software-Management/Project/T01-nvidia-jupyternotebookenv/venv38_ub/lib/python3.8/site-packages (from scikit-learn) (1.9.1)\n",
      "Requirement already satisfied: numpy>=1.17.3 in /mnt/c/Users/rcwww/Desktop/Y3T1/ICT3104-Software-Management/Project/T01-nvidia-jupyternotebookenv/venv38_ub/lib/python3.8/site-packages (from scikit-learn) (1.23.3)\n",
      "Requirement already satisfied: joblib>=1.0.0 in /mnt/c/Users/rcwww/Desktop/Y3T1/ICT3104-Software-Management/Project/T01-nvidia-jupyternotebookenv/venv38_ub/lib/python3.8/site-packages (from scikit-learn) (1.1.0)\n",
      "Note: you may need to restart the kernel to use updated packages.\n",
      "Requirement already satisfied: numpy in /mnt/c/Users/rcwww/Desktop/Y3T1/ICT3104-Software-Management/Project/T01-nvidia-jupyternotebookenv/venv38_ub/lib/python3.8/site-packages (1.23.3)\n",
      "Note: you may need to restart the kernel to use updated packages.\n"
     ]
    }
   ],
   "source": [
    "%pip install torch==1.10.1 torchvision==0.11.2 torchaudio==0.10.1 -f https://download.pytorch.org/ehl/torch_stable.html\n",
    "%pip install timm==0.4.12\n",
    "%pip install scikit-learn\n",
    "%pip install numpy"
   ]
  },
  {
   "cell_type": "code",
   "execution_count": 3,
   "id": "74debddd-686f-4b5e-beed-8bec6861c20a",
   "metadata": {},
   "outputs": [
    {
     "name": "stdout",
     "output_type": "stream",
     "text": [
      "Requirement already satisfied: ipywidgets in /mnt/c/Users/rcwww/Desktop/Y3T1/ICT3104-Software-Management/Project/T01-nvidia-jupyternotebookenv/venv38_ub/lib/python3.8/site-packages (8.0.2)\n",
      "Requirement already satisfied: ipython>=6.1.0 in /mnt/c/Users/rcwww/Desktop/Y3T1/ICT3104-Software-Management/Project/T01-nvidia-jupyternotebookenv/venv38_ub/lib/python3.8/site-packages (from ipywidgets) (8.5.0)\n",
      "Requirement already satisfied: ipykernel>=4.5.1 in /mnt/c/Users/rcwww/Desktop/Y3T1/ICT3104-Software-Management/Project/T01-nvidia-jupyternotebookenv/venv38_ub/lib/python3.8/site-packages (from ipywidgets) (6.15.2)\n",
      "Requirement already satisfied: widgetsnbextension~=4.0 in /mnt/c/Users/rcwww/Desktop/Y3T1/ICT3104-Software-Management/Project/T01-nvidia-jupyternotebookenv/venv38_ub/lib/python3.8/site-packages (from ipywidgets) (4.0.3)\n",
      "Requirement already satisfied: jupyterlab-widgets~=3.0 in /mnt/c/Users/rcwww/Desktop/Y3T1/ICT3104-Software-Management/Project/T01-nvidia-jupyternotebookenv/venv38_ub/lib/python3.8/site-packages (from ipywidgets) (3.0.3)\n",
      "Requirement already satisfied: traitlets>=4.3.1 in /mnt/c/Users/rcwww/Desktop/Y3T1/ICT3104-Software-Management/Project/T01-nvidia-jupyternotebookenv/venv38_ub/lib/python3.8/site-packages (from ipywidgets) (5.3.0)\n",
      "Requirement already satisfied: backcall in /mnt/c/Users/rcwww/Desktop/Y3T1/ICT3104-Software-Management/Project/T01-nvidia-jupyternotebookenv/venv38_ub/lib/python3.8/site-packages (from ipython>=6.1.0->ipywidgets) (0.2.0)\n",
      "Requirement already satisfied: pickleshare in /mnt/c/Users/rcwww/Desktop/Y3T1/ICT3104-Software-Management/Project/T01-nvidia-jupyternotebookenv/venv38_ub/lib/python3.8/site-packages (from ipython>=6.1.0->ipywidgets) (0.7.5)\n",
      "Requirement already satisfied: stack-data in /mnt/c/Users/rcwww/Desktop/Y3T1/ICT3104-Software-Management/Project/T01-nvidia-jupyternotebookenv/venv38_ub/lib/python3.8/site-packages (from ipython>=6.1.0->ipywidgets) (0.5.0)\n",
      "Requirement already satisfied: prompt-toolkit<3.1.0,>3.0.1 in /mnt/c/Users/rcwww/Desktop/Y3T1/ICT3104-Software-Management/Project/T01-nvidia-jupyternotebookenv/venv38_ub/lib/python3.8/site-packages (from ipython>=6.1.0->ipywidgets) (3.0.31)\n",
      "Requirement already satisfied: decorator in /mnt/c/Users/rcwww/Desktop/Y3T1/ICT3104-Software-Management/Project/T01-nvidia-jupyternotebookenv/venv38_ub/lib/python3.8/site-packages (from ipython>=6.1.0->ipywidgets) (5.1.1)\n",
      "Requirement already satisfied: pexpect>4.3; sys_platform != \"win32\" in /mnt/c/Users/rcwww/Desktop/Y3T1/ICT3104-Software-Management/Project/T01-nvidia-jupyternotebookenv/venv38_ub/lib/python3.8/site-packages (from ipython>=6.1.0->ipywidgets) (4.8.0)\n",
      "Requirement already satisfied: jedi>=0.16 in /mnt/c/Users/rcwww/Desktop/Y3T1/ICT3104-Software-Management/Project/T01-nvidia-jupyternotebookenv/venv38_ub/lib/python3.8/site-packages (from ipython>=6.1.0->ipywidgets) (0.18.1)\n",
      "Requirement already satisfied: matplotlib-inline in /mnt/c/Users/rcwww/Desktop/Y3T1/ICT3104-Software-Management/Project/T01-nvidia-jupyternotebookenv/venv38_ub/lib/python3.8/site-packages (from ipython>=6.1.0->ipywidgets) (0.1.6)\n",
      "Requirement already satisfied: pygments>=2.4.0 in /mnt/c/Users/rcwww/Desktop/Y3T1/ICT3104-Software-Management/Project/T01-nvidia-jupyternotebookenv/venv38_ub/lib/python3.8/site-packages (from ipython>=6.1.0->ipywidgets) (2.13.0)\n",
      "Requirement already satisfied: nest-asyncio in /mnt/c/Users/rcwww/Desktop/Y3T1/ICT3104-Software-Management/Project/T01-nvidia-jupyternotebookenv/venv38_ub/lib/python3.8/site-packages (from ipykernel>=4.5.1->ipywidgets) (1.5.5)\n",
      "Requirement already satisfied: packaging in /mnt/c/Users/rcwww/Desktop/Y3T1/ICT3104-Software-Management/Project/T01-nvidia-jupyternotebookenv/venv38_ub/lib/python3.8/site-packages (from ipykernel>=4.5.1->ipywidgets) (21.3)\n",
      "Requirement already satisfied: psutil in /mnt/c/Users/rcwww/Desktop/Y3T1/ICT3104-Software-Management/Project/T01-nvidia-jupyternotebookenv/venv38_ub/lib/python3.8/site-packages (from ipykernel>=4.5.1->ipywidgets) (5.9.2)\n",
      "Requirement already satisfied: pyzmq>=17 in /mnt/c/Users/rcwww/Desktop/Y3T1/ICT3104-Software-Management/Project/T01-nvidia-jupyternotebookenv/venv38_ub/lib/python3.8/site-packages (from ipykernel>=4.5.1->ipywidgets) (23.2.1)\n",
      "Requirement already satisfied: jupyter-client>=6.1.12 in /mnt/c/Users/rcwww/Desktop/Y3T1/ICT3104-Software-Management/Project/T01-nvidia-jupyternotebookenv/venv38_ub/lib/python3.8/site-packages (from ipykernel>=4.5.1->ipywidgets) (7.3.5)\n",
      "Requirement already satisfied: tornado>=6.1 in /mnt/c/Users/rcwww/Desktop/Y3T1/ICT3104-Software-Management/Project/T01-nvidia-jupyternotebookenv/venv38_ub/lib/python3.8/site-packages (from ipykernel>=4.5.1->ipywidgets) (6.2)\n",
      "Requirement already satisfied: debugpy>=1.0 in /mnt/c/Users/rcwww/Desktop/Y3T1/ICT3104-Software-Management/Project/T01-nvidia-jupyternotebookenv/venv38_ub/lib/python3.8/site-packages (from ipykernel>=4.5.1->ipywidgets) (1.6.3)\n",
      "Requirement already satisfied: executing in /mnt/c/Users/rcwww/Desktop/Y3T1/ICT3104-Software-Management/Project/T01-nvidia-jupyternotebookenv/venv38_ub/lib/python3.8/site-packages (from stack-data->ipython>=6.1.0->ipywidgets) (1.0.0)\n",
      "Requirement already satisfied: asttokens in /mnt/c/Users/rcwww/Desktop/Y3T1/ICT3104-Software-Management/Project/T01-nvidia-jupyternotebookenv/venv38_ub/lib/python3.8/site-packages (from stack-data->ipython>=6.1.0->ipywidgets) (2.0.8)\n",
      "Requirement already satisfied: pure-eval in /mnt/c/Users/rcwww/Desktop/Y3T1/ICT3104-Software-Management/Project/T01-nvidia-jupyternotebookenv/venv38_ub/lib/python3.8/site-packages (from stack-data->ipython>=6.1.0->ipywidgets) (0.2.2)\n",
      "Requirement already satisfied: wcwidth in /mnt/c/Users/rcwww/Desktop/Y3T1/ICT3104-Software-Management/Project/T01-nvidia-jupyternotebookenv/venv38_ub/lib/python3.8/site-packages (from prompt-toolkit<3.1.0,>3.0.1->ipython>=6.1.0->ipywidgets) (0.2.5)\n",
      "Requirement already satisfied: ptyprocess>=0.5 in /mnt/c/Users/rcwww/Desktop/Y3T1/ICT3104-Software-Management/Project/T01-nvidia-jupyternotebookenv/venv38_ub/lib/python3.8/site-packages (from pexpect>4.3; sys_platform != \"win32\"->ipython>=6.1.0->ipywidgets) (0.7.0)\n",
      "Requirement already satisfied: parso<0.9.0,>=0.8.0 in /mnt/c/Users/rcwww/Desktop/Y3T1/ICT3104-Software-Management/Project/T01-nvidia-jupyternotebookenv/venv38_ub/lib/python3.8/site-packages (from jedi>=0.16->ipython>=6.1.0->ipywidgets) (0.8.3)\n",
      "Requirement already satisfied: pyparsing!=3.0.5,>=2.0.2 in /mnt/c/Users/rcwww/Desktop/Y3T1/ICT3104-Software-Management/Project/T01-nvidia-jupyternotebookenv/venv38_ub/lib/python3.8/site-packages (from packaging->ipykernel>=4.5.1->ipywidgets) (3.0.9)\n",
      "Requirement already satisfied: jupyter-core>=4.9.2 in /mnt/c/Users/rcwww/Desktop/Y3T1/ICT3104-Software-Management/Project/T01-nvidia-jupyternotebookenv/venv38_ub/lib/python3.8/site-packages (from jupyter-client>=6.1.12->ipykernel>=4.5.1->ipywidgets) (4.11.1)\n",
      "Requirement already satisfied: python-dateutil>=2.8.2 in /mnt/c/Users/rcwww/Desktop/Y3T1/ICT3104-Software-Management/Project/T01-nvidia-jupyternotebookenv/venv38_ub/lib/python3.8/site-packages (from jupyter-client>=6.1.12->ipykernel>=4.5.1->ipywidgets) (2.8.2)\n",
      "Requirement already satisfied: entrypoints in /mnt/c/Users/rcwww/Desktop/Y3T1/ICT3104-Software-Management/Project/T01-nvidia-jupyternotebookenv/venv38_ub/lib/python3.8/site-packages (from jupyter-client>=6.1.12->ipykernel>=4.5.1->ipywidgets) (0.4)\n",
      "Requirement already satisfied: six in /mnt/c/Users/rcwww/Desktop/Y3T1/ICT3104-Software-Management/Project/T01-nvidia-jupyternotebookenv/venv38_ub/lib/python3.8/site-packages (from asttokens->stack-data->ipython>=6.1.0->ipywidgets) (1.16.0)\n",
      "Note: you may need to restart the kernel to use updated packages.\n"
     ]
    }
   ],
   "source": [
    "%pip install ipywidgets"
   ]
  },
  {
   "cell_type": "code",
   "execution_count": 4,
   "id": "c44a2e7f-1951-4e43-802f-a2db436e5101",
   "metadata": {},
   "outputs": [
    {
     "name": "stdout",
     "output_type": "stream",
     "text": [
      "Requirement already satisfied: tqdm in /mnt/c/Users/rcwww/Desktop/Y3T1/ICT3104-Software-Management/Project/T01-nvidia-jupyternotebookenv/venv38_ub/lib/python3.8/site-packages (4.64.1)\n",
      "Note: you may need to restart the kernel to use updated packages.\n"
     ]
    }
   ],
   "source": [
    "%pip install tqdm"
   ]
  },
  {
   "cell_type": "markdown",
   "id": "a7fadfc0-0020-455b-b1e6-910a8b72209c",
   "metadata": {},
   "source": [
    "### Check if pytorch is installed"
   ]
  },
  {
   "cell_type": "code",
   "execution_count": 5,
   "id": "fa7d1a5b-c24b-4b2a-9081-4f0a1c504a8f",
   "metadata": {},
   "outputs": [
    {
     "name": "stdout",
     "output_type": "stream",
     "text": [
      "1.10.1+cu102\n"
     ]
    }
   ],
   "source": [
    "import torch\n",
    "print(torch.__version__)"
   ]
  },
  {
   "cell_type": "markdown",
   "id": "466be9d9-ac20-4e39-ae5d-a850d22a8220",
   "metadata": {},
   "source": [
    "### US-06\n",
    "Loading a model"
   ]
  },
  {
   "cell_type": "code",
   "execution_count": null,
   "id": "06c81d0e-4bc5-4ae4-b28b-e85e974714fb",
   "metadata": {},
   "outputs": [
    {
     "name": "stdout",
     "output_type": "stream",
     "text": [
      "Random_SEED!!!: 0\n",
      "./tained_model/PDAN_TSU_RGB\n",
      "batch_size: 2\n",
      "cuda_avail False\n",
      "RGB mode ./Toyota_Smarthome/pipline/data/TSU_RGB_i3d_feat/RGB_i3d_16frames_64000_SSD/\n",
      "100%|█████████████████████████████████████████| 536/536 [00:22<00:00, 23.60it/s]\n",
      "100%|█████████████████████████████████████████| 536/536 [00:12<00:00, 43.07it/s]\n",
      "you are processing PDAN_TSU_RGB\n",
      "/mnt/c/Users/rcwww/Desktop/Y3T1/ICT3104-Software-Management/Project/T01-nvidia-jupyternotebookenv/Toyota_Smarthome/pipline/models.py:88: UserWarning: nn.init.kaiming_normal is now deprecated in favor of nn.init.kaiming_normal_.\n",
      "  init.kaiming_normal(self.key_conv.weight, mode='fan_out')\n",
      "/mnt/c/Users/rcwww/Desktop/Y3T1/ICT3104-Software-Management/Project/T01-nvidia-jupyternotebookenv/Toyota_Smarthome/pipline/models.py:89: UserWarning: nn.init.kaiming_normal is now deprecated in favor of nn.init.kaiming_normal_.\n",
      "  init.kaiming_normal(self.value_conv.weight, mode='fan_out')\n",
      "/mnt/c/Users/rcwww/Desktop/Y3T1/ICT3104-Software-Management/Project/T01-nvidia-jupyternotebookenv/Toyota_Smarthome/pipline/models.py:90: UserWarning: nn.init.kaiming_normal is now deprecated in favor of nn.init.kaiming_normal_.\n",
      "  init.kaiming_normal(self.query_conv.weight, mode='fan_out')\n",
      "/mnt/c/Users/rcwww/Desktop/Y3T1/ICT3104-Software-Management/Project/T01-nvidia-jupyternotebookenv/Toyota_Smarthome/pipline/models.py:91: UserWarning: nn.init.normal is now deprecated in favor of nn.init.normal_.\n",
      "  init.normal(self.rel_t, 0, 1)\n",
      "pytorch_total_params 5804083\n",
      "num_channel: 512 input_channnel: 1024 num_classes: 51\n",
      "/mnt/c/Users/rcwww/Desktop/Y3T1/ICT3104-Software-Management/Project/T01-nvidia-jupyternotebookenv/venv38_ub/lib/python3.8/site-packages/torch/nn/_reduction.py:42: UserWarning: size_average and reduce args will be deprecated, please use reduction='none' instead.\n",
      "  warnings.warn(warning.format(ret))\n",
      "0.0002\n",
      "Epoch 0/139\n",
      "----------\n",
      "/mnt/c/Users/rcwww/Desktop/Y3T1/ICT3104-Software-Management/Project/T01-nvidia-jupyternotebookenv/venv38_ub/lib/python3.8/site-packages/torch/nn/functional.py:1806: UserWarning: nn.functional.sigmoid is deprecated. Use torch.sigmoid instead.\n",
      "  warnings.warn(\"nn.functional.sigmoid is deprecated. Use torch.sigmoid instead.\")\n",
      "/mnt/c/Users/rcwww/Desktop/Y3T1/ICT3104-Software-Management/Project/T01-nvidia-jupyternotebookenv/venv38_ub/lib/python3.8/site-packages/torch/nn/_reduction.py:42: UserWarning: size_average and reduce args will be deprecated, please use reduction='sum' instead.\n",
      "  warnings.warn(warning.format(ret))\n",
      "/mnt/c/Users/rcwww/Desktop/Y3T1/ICT3104-Software-Management/Project/T01-nvidia-jupyternotebookenv/Toyota_Smarthome/pipline/apmeter.py:108: UserWarning: torch.range is deprecated and will be removed in a future release because its behavior is inconsistent with Python's range builtin. Instead, use torch.arange, which produces values in [start, end).\n",
      "  rg = torch.range(1, self.scores.size(0)).float()\n",
      "/mnt/c/Users/rcwww/Desktop/Y3T1/ICT3104-Software-Management/Project/T01-nvidia-jupyternotebookenv/Toyota_Smarthome/pipline/apmeter.py:137: UserWarning: indexing with dtype torch.uint8 is now deprecated, please use a dtype torch.bool instead. (Triggered internally at  ../aten/src/ATen/native/IndexingUtils.h:30.)\n",
      "  ap[k] = precision[truth.byte()].sum() / max(truth.sum(), 1)\n",
      "train-map: tensor(2.2710)\n",
      "val-map: tensor(6.4453)\n",
      "tensor([2.1364e+00, 1.9181e+01, 8.0336e+00, 1.1044e+00, 3.1280e-01, 1.0413e+01,\n",
      "        3.9402e-01, 4.7005e+00, 4.0791e-01, 2.0467e+00, 1.7329e+00, 4.9122e-01,\n",
      "        6.9981e-02, 2.2304e+00, 4.8586e-01, 2.0357e+00, 8.8365e-01, 9.5561e+00,\n",
      "        5.2114e-01, 6.4164e+01, 1.2107e+00, 1.8554e+00, 1.4932e+01, 1.8520e+00,\n",
      "        1.8015e-01, 1.2842e+00, 2.2097e+01, 2.2554e+01, 3.5943e+00, 5.5944e-01,\n",
      "        3.9887e-01, 1.0630e-02, 1.2157e-01, 4.3391e-01, 2.3086e+01, 2.6368e+01,\n",
      "        1.6613e+00, 9.5670e-01, 4.2615e+00, 2.8653e-01, 1.2284e+01, 4.3947e+00,\n",
      "        1.2575e+01, 1.5567e+01, 1.8868e-01, 8.7167e+00, 2.4697e+00, 5.4139e+00,\n",
      "        8.2268e+00, 1.8329e-01, 8.7714e-02])\n",
      "Epoch 1/139\n",
      "----------\n"
     ]
    }
   ],
   "source": [
    "!./Toyota_Smarthome/pipline/run_PDAN.sh"
   ]
  },
  {
   "cell_type": "code",
   "execution_count": null,
   "id": "9e18d5f0-6d0d-4c67-9682-133bfb1f1f65",
   "metadata": {},
   "outputs": [],
   "source": []
  }
 ],
 "metadata": {
  "kernelspec": {
   "display_name": "Python 3 (ipykernel)",
   "language": "python",
   "name": "python3"
  },
  "language_info": {
   "codemirror_mode": {
    "name": "ipython",
    "version": 3
   },
   "file_extension": ".py",
   "mimetype": "text/x-python",
   "name": "python",
   "nbconvert_exporter": "python",
   "pygments_lexer": "ipython3",
   "version": "3.8.10"
  }
 },
 "nbformat": 4,
 "nbformat_minor": 5
}
