{
 "cells": [
  {
   "cell_type": "markdown",
   "metadata": {
    "heading_collapsed": true
   },
   "source": [
    "## Dependencies installation\n",
    "\n",
    "<font>Run this cell to install all required libraries. Login/Register to wandb.</font>"
   ]
  },
  {
   "cell_type": "code",
   "execution_count": 1,
   "metadata": {
    "colab": {
     "base_uri": "https://localhost:8080/"
    },
    "hidden": true,
    "id": "fb9mR5tAeE6K",
    "outputId": "be696e57-4b4d-42b7-8158-53362681f1c1"
   },
   "outputs": [
    {
     "name": "stdout",
     "output_type": "stream",
     "text": [
      "Requirement already satisfied: wandb in ./venv/lib/python3.8/site-packages (0.13.4)\n",
      "Requirement already satisfied: GitPython>=1.0.0 in ./venv/lib/python3.8/site-packages (from wandb) (3.1.27)\n",
      "Requirement already satisfied: Click!=8.0.0,>=7.0 in ./venv/lib/python3.8/site-packages (from wandb) (8.1.3)\n",
      "Requirement already satisfied: promise<3,>=2.0 in ./venv/lib/python3.8/site-packages (from wandb) (2.3)\n",
      "Requirement already satisfied: PyYAML in ./venv/lib/python3.8/site-packages (from wandb) (6.0)\n",
      "Requirement already satisfied: shortuuid>=0.5.0 in ./venv/lib/python3.8/site-packages (from wandb) (1.0.9)\n",
      "Requirement already satisfied: requests<3,>=2.0.0 in ./venv/lib/python3.8/site-packages (from wandb) (2.28.1)\n",
      "Requirement already satisfied: setproctitle in ./venv/lib/python3.8/site-packages (from wandb) (1.3.2)\n",
      "Requirement already satisfied: setuptools in ./venv/lib/python3.8/site-packages (from wandb) (41.2.0)\n",
      "Requirement already satisfied: protobuf!=4.0.*,!=4.21.0,<5,>=3.12.0 in ./venv/lib/python3.8/site-packages (from wandb) (3.20.2)\n",
      "Requirement already satisfied: six>=1.13.0 in ./venv/lib/python3.8/site-packages (from wandb) (1.16.0)\n",
      "Requirement already satisfied: docker-pycreds>=0.4.0 in ./venv/lib/python3.8/site-packages (from wandb) (0.4.0)\n",
      "Requirement already satisfied: psutil>=5.0.0 in ./venv/lib/python3.8/site-packages (from wandb) (5.9.2)\n",
      "Requirement already satisfied: pathtools in ./venv/lib/python3.8/site-packages (from wandb) (0.1.2)\n",
      "Requirement already satisfied: sentry-sdk>=1.0.0 in ./venv/lib/python3.8/site-packages (from wandb) (1.9.8)\n",
      "Requirement already satisfied: gitdb<5,>=4.0.1 in ./venv/lib/python3.8/site-packages (from GitPython>=1.0.0->wandb) (4.0.9)\n",
      "Requirement already satisfied: charset-normalizer<3,>=2 in ./venv/lib/python3.8/site-packages (from requests<3,>=2.0.0->wandb) (2.1.1)\n",
      "Requirement already satisfied: certifi>=2017.4.17 in ./venv/lib/python3.8/site-packages (from requests<3,>=2.0.0->wandb) (2022.9.14)\n",
      "Requirement already satisfied: idna<4,>=2.5 in ./venv/lib/python3.8/site-packages (from requests<3,>=2.0.0->wandb) (3.4)\n",
      "Requirement already satisfied: urllib3<1.27,>=1.21.1 in ./venv/lib/python3.8/site-packages (from requests<3,>=2.0.0->wandb) (1.26.12)\n",
      "Requirement already satisfied: smmap<6,>=3.0.1 in ./venv/lib/python3.8/site-packages (from gitdb<5,>=4.0.1->GitPython>=1.0.0->wandb) (5.0.0)\n",
      "\u001b[33mWARNING: You are using pip version 19.2.3, however version 22.3 is available.\n",
      "You should consider upgrading via the 'pip install --upgrade pip' command.\u001b[0m\n",
      "\u001b[34m\u001b[1mwandb\u001b[0m: Currently logged in as: \u001b[33mwhitneytwh\u001b[0m. Use \u001b[1m`wandb login --relogin`\u001b[0m to force relogin\n"
     ]
    }
   ],
   "source": [
    "!pip install wandb\n",
    "!wandb login"
   ]
  },
  {
   "cell_type": "markdown",
   "metadata": {
    "heading_collapsed": true
   },
   "source": [
    "## Set-up Charts \n",
    "\n",
    "Run all the cells below to set up charts"
   ]
  },
  {
   "cell_type": "code",
   "execution_count": null,
   "metadata": {
    "hidden": true,
    "id": "7gOktMn2TczF"
   },
   "outputs": [],
   "source": [
    "import wandb\n",
    "import plotly.express as px\n",
    "\n",
    "# Initialize a new run\n",
    "run = wandb.init(project=\"precision-tables\", name=\"PrecisionPerClass_html\")\n",
    "\n",
    "# Create a table\n",
    "table = wandb.Table(columns = [\"PrecisionPerClass_figure\"])\n",
    "\n",
    "# Create path for Plotly figure\n",
    "path_to_plotly_html = \"./PrecisionPerClass_html\"\n",
    "\n",
    "# Example Plotly figure\n",
    "fig = px.bar(x=[0.4393, 0.5041, 0.4509, 0.4530, 0.4051, 0.4353, 0.3331, 0.3045, 0.4095, 0.2075, 0.1727, 0.0513, 0.0079, 0.3842,\n",
    "                      0.3786, 0.0337, 0.2284, 0.5676, 0.0284, 0.7207, 0.3301, 0.5292, 0.5247, 0.0327, 0.0166, 0.6374, 0.3707, 0.5203,\n",
    "                      0.6002, 0.1530, 0.0665, 0.0086, 0.3908, 0.0287, 0.4838, 0.8930, 0.3778, 0.1513, 0.2322, 0.0810, 0.7038, 0.3274,\n",
    "                      0.1741, 0.6470, 0.0202, 0.7630, 0.6530, 0.3254, 0.1165, 0.0221, 0.0065],\n",
    "            y=['Class 1', 'Class 2', 'Class 3', 'Class 4', 'Class 5', 'Class 6', 'Class 7', 'Class 8', 'Class 9', 'Class 10', 'Class 11', 'Class 12', 'Class 13',\n",
    "               'Class 14', 'Class 15', 'Class 16', 'Class 17', 'Class 18', 'Class 19', 'Class 20', 'Class 21', 'Class 22', 'Class 23', 'Class 24', 'Class 25', 'Class 26', \n",
    "               'Class 27', 'Class 28', 'Class 29', 'Class 30', 'Class 31', 'Class 32', 'Class 33', 'Class 34', 'Class 35', 'Class 36', 'Class 37', 'Class 38', \n",
    "               'Class 39', 'Class 40', 'Class 41', 'Class 42', 'Class 43', 'Class 44', 'Class 45', 'Class 46', 'Class 47', 'Class 48', 'Class 49', 'Class 50', 'Class 51'],\n",
    "            orientation='h', labels=dict(x=\"Class\", y=\"Precision\"), title=\"Average Precision Per Class\")\n",
    "\n",
    "fig.add_annotation(text='Mean Average Precision: 0.3275', \n",
    "                    align=\"left\",\n",
    "                    showarrow=False,\n",
    "                    xref=\"paper\",\n",
    "                    yref=\"paper\",\n",
    "                    font=dict(color=\"black\", size=9),\n",
    "                    bgcolor=\"rgba(0,0,0,0)\",\n",
    "                    y=0.2,\n",
    "                    x=0.8,\n",
    "                    xanchor=\"left\")\n",
    "\n",
    "# Write Plotly figure to HTML\n",
    "fig.write_html(path_to_plotly_html, auto_play = False) # Setting auto_play to False prevents animated Plotly charts from playing in the table automatically\n",
    "\n",
    "# Add Plotly figure as HTML file into Table\n",
    "table.add_data(wandb.Html(path_to_plotly_html))\n",
    "\n",
    "# Log Table\n",
    "run.log({\"precision_table\": table})\n",
    "wandb.finish()"
   ]
  },
  {
   "cell_type": "code",
   "execution_count": null,
   "metadata": {
    "hidden": true
   },
   "outputs": [],
   "source": []
  },
  {
   "cell_type": "code",
   "execution_count": null,
   "metadata": {
    "hidden": true,
    "id": "EU5UewApUwTg"
   },
   "outputs": [],
   "source": [
    "!pip install wandb -qU"
   ]
  },
  {
   "cell_type": "code",
   "execution_count": null,
   "metadata": {
    "colab": {
     "base_uri": "https://localhost:8080/"
    },
    "hidden": true,
    "id": "v5_2dW32eVHC",
    "outputId": "a1a0b6cc-1650-4c5d-f013-074bef34d7ad"
   },
   "outputs": [
    {
     "data": {
      "text/plain": [
       "True"
      ]
     },
     "execution_count": 7,
     "metadata": {},
     "output_type": "execute_result"
    }
   ],
   "source": [
    "import wandb\n",
    "wandb.login()"
   ]
  },
  {
   "cell_type": "code",
   "execution_count": null,
   "metadata": {
    "hidden": true,
    "id": "YI8i8cIsU14G"
   },
   "outputs": [],
   "source": [
    "api = wandb.Api()"
   ]
  },
  {
   "cell_type": "code",
   "execution_count": null,
   "metadata": {
    "hidden": true,
    "id": "48h1Ah9FVIfq"
   },
   "outputs": [],
   "source": [
    "team, project, run_id = \"whitneytwh\", \"precision-tables\", \"6vkl84zj\"\n",
    "run = api.run(f\"{team}/{project}/{run_id}\")\n",
    "\n",
    "run.display(height=720)  # you may need to zoom out to see the whole window!"
   ]
  },
  {
   "cell_type": "code",
   "execution_count": null,
   "metadata": {
    "hidden": true,
    "id": "zam7SnEkR6S5"
   },
   "outputs": [],
   "source": [
    "# TRAINING ACCURACY PRECISION GRAPH\n",
    "\n",
    "import wandb\n",
    "import plotly.express as px\n",
    "import pandas as pd\n",
    "\n",
    "# Initialize a new run\n",
    "run = wandb.init(project=\"precision-tables\", name=\"AccuracyPrecision_html\")\n",
    "\n",
    "# Create a table\n",
    "table = wandb.Table(columns = [\"AccuracyPrecision_figure\"])\n",
    "\n",
    "# Create path for Plotly figure\n",
    "path_to_plotly_html = \"./AccuracyPrecision_html\"\n",
    "\n",
    "df = pd.DataFrame(dict(\n",
    "    Epoch = ['Epoch 1', 'Epoch 2'],\n",
    "    AccuracyPrecision = [44.1054, 47.5862]\n",
    "))\n",
    "fig = px.line(df, x='Epoch', y='AccuracyPrecision', title=\"Training Accuracy Precision\") \n",
    "\n",
    "# Write Plotly figure to HTML\n",
    "fig.write_html(path_to_plotly_html, auto_play = False) # Setting auto_play to False prevents animated Plotly charts from playing in the table automatically\n",
    "\n",
    "# Add Plotly figure as HTML file into Table\n",
    "table.add_data(wandb.Html(path_to_plotly_html))\n",
    "\n",
    "# Log Table\n",
    "run.log({\"precision_table\": table})\n",
    "wandb.finish()"
   ]
  },
  {
   "cell_type": "code",
   "execution_count": null,
   "metadata": {
    "hidden": true,
    "id": "I56YMGFCXwjr"
   },
   "outputs": [],
   "source": [
    "team, project, run_id = \"whitneytwh\", \"precision-tables\", \"3ocr5wb6\"\n",
    "run = api.run(f\"{team}/{project}/{run_id}\")\n",
    "\n",
    "run.display(height=720)  # you may need to zoom out to see the whole window!"
   ]
  },
  {
   "cell_type": "code",
   "execution_count": null,
   "metadata": {
    "hidden": true,
    "id": "A0-V1sQPU2Y-"
   },
   "outputs": [],
   "source": [
    "# TRAINING VALUE LOSS GRAPH\n",
    "\n",
    "import wandb\n",
    "import plotly.express as px\n",
    "import pandas as pd\n",
    "\n",
    "# Initialize a new run\n",
    "run = wandb.init(project=\"precision-tables\", name=\"ValueLoss_html\")\n",
    "\n",
    "# Create a table\n",
    "table = wandb.Table(columns = [\"ValueLoss_figure\"])\n",
    "\n",
    "# Create path for Plotly figure\n",
    "path_to_plotly_html = \"./ValueLoss_html\"\n",
    "\n",
    "df = pd.DataFrame(dict(\n",
    "    Epoch = ['Epoch 1', 'Epoch 2'],\n",
    "    ValueLoss = [2.4854, 2.9503]\n",
    "))\n",
    "fig = px.line(df, x='Epoch', y='ValueLoss', title=\"Training Value Loss\") \n",
    "\n",
    "# Write Plotly figure to HTML\n",
    "fig.write_html(path_to_plotly_html, auto_play = False) # Setting auto_play to False prevents animated Plotly charts from playing in the table automatically\n",
    "\n",
    "# Add Plotly figure as HTML file into Table\n",
    "table.add_data(wandb.Html(path_to_plotly_html))\n",
    "\n",
    "# Log Table\n",
    "run.log({\"precision_table\": table})\n",
    "wandb.finish()"
   ]
  },
  {
   "cell_type": "code",
   "execution_count": null,
   "metadata": {
    "hidden": true,
    "id": "YcHqjOdwX27A"
   },
   "outputs": [],
   "source": [
    "team, project, run_id = \"whitneytwh\", \"precision-tables\", \"1dkrs5yx\"\n",
    "run = api.run(f\"{team}/{project}/{run_id}\")\n",
    "\n",
    "run.display(height=720)  # you may need to zoom out to see the whole window!"
   ]
  },
  {
   "cell_type": "code",
   "execution_count": null,
   "metadata": {
    "hidden": true,
    "id": "eyQ74JnjYJ-W"
   },
   "outputs": [],
   "source": [
    "# VALUE ACCURACY PRECISION GRAPH\n",
    "\n",
    "import wandb\n",
    "import plotly.express as px\n",
    "import pandas as pd\n",
    "\n",
    "# Initialize a new run\n",
    "run = wandb.init(project=\"precision-tables\", name=\"ValueAccuracyPrecision_html\")\n",
    "\n",
    "# Create a table\n",
    "table = wandb.Table(columns = [\"ValueAccuracyPrecision_figure\"])\n",
    "\n",
    "# Create path for Plotly figure\n",
    "path_to_plotly_html = \"./ValueAccuracyPrecision_html\"\n",
    "\n",
    "df = pd.DataFrame(dict(\n",
    "    Epoch = ['Epoch 1', 'Epoch 2'],\n",
    "    ValueAccuracyPrecision = [29.6958, 30.0228]\n",
    "))\n",
    "fig = px.line(df, x='Epoch', y='ValueAccuracyPrecision', title=\"Value Accuracy Precision\") \n",
    "\n",
    "# Write Plotly figure to HTML\n",
    "fig.write_html(path_to_plotly_html, auto_play = False) # Setting auto_play to False prevents animated Plotly charts from playing in the table automatically\n",
    "\n",
    "# Add Plotly figure as HTML file into Table\n",
    "table.add_data(wandb.Html(path_to_plotly_html))\n",
    "\n",
    "# Log Table\n",
    "run.log({\"precision_table\": table})\n",
    "wandb.finish()"
   ]
  },
  {
   "cell_type": "code",
   "execution_count": null,
   "metadata": {
    "hidden": true,
    "id": "0RLSYpHMaZW_"
   },
   "outputs": [],
   "source": [
    "team, project, run_id = \"whitneytwh\", \"precision-tables\", \"296roujj\"\n",
    "run = api.run(f\"{team}/{project}/{run_id}\")\n",
    "\n",
    "run.display(height=720)  # you may need to zoom out to see the whole window!"
   ]
  },
  {
   "cell_type": "code",
   "execution_count": null,
   "metadata": {
    "hidden": true,
    "id": "safZ1NL9aj7B"
   },
   "outputs": [],
   "source": [
    "# VALUE ACCURACY PRECISION GRAPH\n",
    "\n",
    "import wandb\n",
    "import plotly.express as px\n",
    "import pandas as pd\n",
    "\n",
    "# Initialize a new run\n",
    "run = wandb.init(project=\"precision-tables\", name=\"TrainingLoss_html\")\n",
    "\n",
    "# Create a table\n",
    "table = wandb.Table(columns = [\"TrainingLoss_figure\"])\n",
    "\n",
    "# Create path for Plotly figure\n",
    "path_to_plotly_html = \"./TrainingLoss_html\"\n",
    "\n",
    "df = pd.DataFrame(dict(\n",
    "    Epoch = ['Epoch 1', 'Epoch 2'],\n",
    "    TrainingLoss = [1.1186, 1.0271]\n",
    "))\n",
    "fig = px.line(df, x='Epoch', y='TrainingLoss', title=\"Training Loss\") \n",
    "\n",
    "# Write Plotly figure to HTML\n",
    "fig.write_html(path_to_plotly_html, auto_play = False) # Setting auto_play to False prevents animated Plotly charts from playing in the table automatically\n",
    "\n",
    "# Add Plotly figure as HTML file into Table\n",
    "table.add_data(wandb.Html(path_to_plotly_html))\n",
    "\n",
    "# Log Table\n",
    "run.log({\"precision_table\": table})\n",
    "wandb.finish()"
   ]
  },
  {
   "cell_type": "code",
   "execution_count": null,
   "metadata": {
    "hidden": true,
    "id": "gRvtzDWwehz9"
   },
   "outputs": [],
   "source": [
    "team, project, run_id = \"whitneytwh\", \"precision-tables\", \"2k1f4hrp\"\n",
    "run = api.run(f\"{team}/{project}/{run_id}\")\n",
    "\n",
    "run.display(height=720)  # you may need to zoom out to see the whole window!"
   ]
  },
  {
   "cell_type": "code",
   "execution_count": null,
   "metadata": {
    "hidden": true,
    "id": "7P7gpIBF8uuj"
   },
   "outputs": [],
   "source": [
    "import pandas as pd"
   ]
  },
  {
   "cell_type": "code",
   "execution_count": null,
   "metadata": {
    "hidden": true,
    "id": "KOnE0jFnIEzq"
   },
   "outputs": [],
   "source": [
    "data = pd.read_csv (r'C:\\Users\\User\\Documents\\Book1.csv')   \n",
    "df = pd.DataFrame(data, columns= ['Activity','Average Class Precision'])\n",
    "print (df)"
   ]
  },
  {
   "cell_type": "code",
   "execution_count": null,
   "metadata": {
    "colab": {
     "base_uri": "https://localhost:8080/",
     "height": 237,
     "referenced_widgets": [
      "c61c7c5dced6497fafb445b6dc02b924",
      "bab86ec1f1dd43bd82b590670f655c78",
      "eb7cf200e87d492495bb796f0d167c9c",
      "8a04be308f9841f090580659234b07d5",
      "9faa9c4e1f28499284de4f34430196bb",
      "192bb62cafd04439977a5aae2623dafc",
      "d9bb9506eb64484f8daf429bc401e52a",
      "8202cff179d449dc85671a02a516a1e5"
     ]
    },
    "hidden": true,
    "id": "2iWG_fuXIYoC",
    "outputId": "05c63b1d-2678-4609-8379-ceddefdd73e8"
   },
   "outputs": [
    {
     "name": "stderr",
     "output_type": "stream",
     "text": [
      "ERROR:wandb.jupyter:Failed to detect the name of this notebook, you can set it manually with the WANDB_NOTEBOOK_NAME environment variable to enable code saving.\n",
      "\u001b[34m\u001b[1mwandb\u001b[0m: Currently logged in as: \u001b[33mwhitneytwh\u001b[0m. Use \u001b[1m`wandb login --relogin`\u001b[0m to force relogin\n"
     ]
    },
    {
     "data": {
      "text/html": [
       "Tracking run with wandb version 0.13.4"
      ],
      "text/plain": [
       "<IPython.core.display.HTML object>"
      ]
     },
     "metadata": {},
     "output_type": "display_data"
    },
    {
     "data": {
      "text/html": [
       "Run data is saved locally in <code>/content/wandb/run-20221026_143440-3hs6gwz6</code>"
      ],
      "text/plain": [
       "<IPython.core.display.HTML object>"
      ]
     },
     "metadata": {},
     "output_type": "display_data"
    },
    {
     "data": {
      "text/html": [
       "Syncing run <strong><a href=\"https://wandb.ai/whitneytwh/precision-tables/runs/3hs6gwz6\" target=\"_blank\">PrecisionPerClassName_html</a></strong> to <a href=\"https://wandb.ai/whitneytwh/precision-tables\" target=\"_blank\">Weights & Biases</a> (<a href=\"https://wandb.me/run\" target=\"_blank\">docs</a>)<br/>"
      ],
      "text/plain": [
       "<IPython.core.display.HTML object>"
      ]
     },
     "metadata": {},
     "output_type": "display_data"
    },
    {
     "data": {
      "text/html": [
       "Waiting for W&B process to finish... <strong style=\"color:green\">(success).</strong>"
      ],
      "text/plain": [
       "<IPython.core.display.HTML object>"
      ]
     },
     "metadata": {},
     "output_type": "display_data"
    },
    {
     "data": {
      "application/vnd.jupyter.widget-view+json": {
       "model_id": "c61c7c5dced6497fafb445b6dc02b924",
       "version_major": 2,
       "version_minor": 0
      },
      "text/plain": [
       "VBox(children=(Label(value='3.504 MB of 3.504 MB uploaded (0.000 MB deduped)\\r'), FloatProgress(value=0.999982…"
      ]
     },
     "metadata": {},
     "output_type": "display_data"
    },
    {
     "data": {
      "text/html": [
       "Synced <strong style=\"color:#cdcd00\">PrecisionPerClassName_html</strong>: <a href=\"https://wandb.ai/whitneytwh/precision-tables/runs/3hs6gwz6\" target=\"_blank\">https://wandb.ai/whitneytwh/precision-tables/runs/3hs6gwz6</a><br/>Synced 4 W&B file(s), 1 media file(s), 2 artifact file(s) and 0 other file(s)"
      ],
      "text/plain": [
       "<IPython.core.display.HTML object>"
      ]
     },
     "metadata": {},
     "output_type": "display_data"
    },
    {
     "data": {
      "text/html": [
       "Find logs at: <code>./wandb/run-20221026_143440-3hs6gwz6/logs</code>"
      ],
      "text/plain": [
       "<IPython.core.display.HTML object>"
      ]
     },
     "metadata": {},
     "output_type": "display_data"
    }
   ],
   "source": [
    "import wandb\n",
    "import plotly.express as px\n",
    "\n",
    "# Initialize a new run\n",
    "run = wandb.init(project=\"precision-tables\", name=\"PrecisionPerClassName_html\")\n",
    "\n",
    "# Create a table\n",
    "table = wandb.Table(columns = [\"PrecisionPerClassName_figure\"])\n",
    "\n",
    "# Create path for Plotly figure\n",
    "path_to_plotly_html = \"./PrecisionPerClassName_html\"\n",
    "\n",
    "# Example Plotly figure\n",
    "fig = px.bar(x=[0.4393, 0.5041, 0.4509, 0.4530, 0.4051, 0.4353, 0.3331, 0.3045, 0.4095, 0.2075, 0.1727, 0.0513, 0.0079, 0.3842,\n",
    "                      0.3786, 0.0337, 0.2284, 0.5676, 0.0284, 0.7207, 0.3301, 0.5292, 0.5247, 0.0327, 0.0166, 0.6374, 0.3707, 0.5203,\n",
    "                      0.6002, 0.1530, 0.0665, 0.0086, 0.3908, 0.0287, 0.4838, 0.8930, 0.3778, 0.1513, 0.2322, 0.0810, 0.7038, 0.3274,\n",
    "                      0.1741, 0.6470, 0.0202, 0.7630, 0.6530, 0.3254, 0.1165, 0.0221, 0.0065],\n",
    "            y=['Enter', 'Walk', 'Make Coffee', 'Get Water', 'Make coffee', 'Use Drawer', 'Pour Coffee Grains', 'Use Telephone', 'Leave', 'Put Something on Table', 'Take Something off Table', 'Pour from Kettle', 'Stir Coffee/Tea',\n",
    "               'Drink from Cup', 'Dump in Trash', 'Make Tea', 'Boil Water', 'Use Cupboard', 'Insert Tea Bag', 'Read', 'Take Pills', 'Use Fridge', 'Clean Dishes', 'Put Something in Sink', 'Eat Snack', 'Sit Down', \n",
    "               'Watch TV', 'Use Laptop', 'Get Up', 'Drink from Bottle', 'Pour from Bottle', 'Drink from Glass', 'Lay Down', 'Drink from Can', 'Write', 'Breakfast', 'Spread Jam or Butter', 'Cut Bread', \n",
    "               'Eat at Table', 'Take Ham', 'Dry Up Clean Dishes', 'Wipe Table', 'Cook', 'Cut', 'Use Stove', 'Stir', 'Use Oven', 'Clean Dishes with Clean Water', 'Use Tablet', 'Use Glasses', 'Pour from Can'],\n",
    "            orientation='h', labels=dict(x=\"Class\", y=\"Precision\"), title=\"Average Precision Per Class\")\n",
    "\n",
    "fig.add_annotation(text='Mean Average Precision: 0.3275', \n",
    "                    align=\"left\",\n",
    "                    showarrow=False,\n",
    "                    xref=\"paper\",\n",
    "                    yref=\"paper\",\n",
    "                    font=dict(color=\"black\", size=9),\n",
    "                    bgcolor=\"rgba(0,0,0,0)\",\n",
    "                    y=0.2,\n",
    "                    x=0.8,\n",
    "                    xanchor=\"left\")\n",
    "\n",
    "# Write Plotly figure to HTML\n",
    "fig.write_html(path_to_plotly_html, auto_play = False) # Setting auto_play to False prevents animated Plotly charts from playing in the table automatically\n",
    "\n",
    "# Add Plotly figure as HTML file into Table\n",
    "table.add_data(wandb.Html(path_to_plotly_html))\n",
    "\n",
    "# Log Table\n",
    "run.log({\"precision_table\": table})\n",
    "wandb.finish()"
   ]
  },
  {
   "cell_type": "code",
   "execution_count": null,
   "metadata": {
    "colab": {
     "base_uri": "https://localhost:8080/",
     "height": 829
    },
    "hidden": true,
    "id": "r2erRZxKmcBE",
    "outputId": "32142fb7-2e06-4ec7-d648-17cac9ae6c3d"
   },
   "outputs": [
    {
     "name": "stderr",
     "output_type": "stream",
     "text": [
      "/usr/local/lib/python3.7/dist-packages/IPython/core/display.py:701: UserWarning:\n",
      "\n",
      "Consider using IPython.display.IFrame instead\n",
      "\n"
     ]
    },
    {
     "data": {
      "text/html": [
       "<iframe src=\"https://wandb.ai/whitneytwh/precision-tables/runs/3hs6gwz6?jupyter=true\" style=\"border:none;width:100%;height:720px;\"></iframe>"
      ],
      "text/plain": [
       "<IPython.core.display.HTML object>"
      ]
     },
     "metadata": {},
     "output_type": "display_data"
    },
    {
     "data": {
      "text/plain": [
       "True"
      ]
     },
     "execution_count": 9,
     "metadata": {},
     "output_type": "execute_result"
    }
   ],
   "source": [
    "team, project, run_id = \"whitneytwh\", \"precision-tables\", \"3hs6gwz6\"\n",
    "run = api.run(f\"{team}/{project}/{run_id}\")\n",
    "\n",
    "run.display(height=720)  # you may need to zoom out to see the whole window!"
   ]
  }
 ],
 "metadata": {
  "colab": {
   "provenance": []
  },
  "hide_input": false,
  "kernelspec": {
   "display_name": "Python 3 (ipykernel)",
   "language": "python",
   "name": "python3"
  },
  "language_info": {
   "codemirror_mode": {
    "name": "ipython",
    "version": 3
   },
   "file_extension": ".py",
   "mimetype": "text/x-python",
   "name": "python",
   "nbconvert_exporter": "python",
   "pygments_lexer": "ipython3",
   "version": "3.8.1"
  },
  "widgets": {
   "application/vnd.jupyter.widget-state+json": {
    "192bb62cafd04439977a5aae2623dafc": {
     "model_module": "@jupyter-widgets/controls",
     "model_module_version": "1.5.0",
     "model_name": "DescriptionStyleModel",
     "state": {
      "_model_module": "@jupyter-widgets/controls",
      "_model_module_version": "1.5.0",
      "_model_name": "DescriptionStyleModel",
      "_view_count": null,
      "_view_module": "@jupyter-widgets/base",
      "_view_module_version": "1.2.0",
      "_view_name": "StyleView",
      "description_width": ""
     }
    },
    "8202cff179d449dc85671a02a516a1e5": {
     "model_module": "@jupyter-widgets/controls",
     "model_module_version": "1.5.0",
     "model_name": "ProgressStyleModel",
     "state": {
      "_model_module": "@jupyter-widgets/controls",
      "_model_module_version": "1.5.0",
      "_model_name": "ProgressStyleModel",
      "_view_count": null,
      "_view_module": "@jupyter-widgets/base",
      "_view_module_version": "1.2.0",
      "_view_name": "StyleView",
      "bar_color": null,
      "description_width": ""
     }
    },
    "8a04be308f9841f090580659234b07d5": {
     "model_module": "@jupyter-widgets/base",
     "model_module_version": "1.2.0",
     "model_name": "LayoutModel",
     "state": {
      "_model_module": "@jupyter-widgets/base",
      "_model_module_version": "1.2.0",
      "_model_name": "LayoutModel",
      "_view_count": null,
      "_view_module": "@jupyter-widgets/base",
      "_view_module_version": "1.2.0",
      "_view_name": "LayoutView",
      "align_content": null,
      "align_items": null,
      "align_self": null,
      "border": null,
      "bottom": null,
      "display": null,
      "flex": null,
      "flex_flow": null,
      "grid_area": null,
      "grid_auto_columns": null,
      "grid_auto_flow": null,
      "grid_auto_rows": null,
      "grid_column": null,
      "grid_gap": null,
      "grid_row": null,
      "grid_template_areas": null,
      "grid_template_columns": null,
      "grid_template_rows": null,
      "height": null,
      "justify_content": null,
      "justify_items": null,
      "left": null,
      "margin": null,
      "max_height": null,
      "max_width": null,
      "min_height": null,
      "min_width": null,
      "object_fit": null,
      "object_position": null,
      "order": null,
      "overflow": null,
      "overflow_x": null,
      "overflow_y": null,
      "padding": null,
      "right": null,
      "top": null,
      "visibility": null,
      "width": null
     }
    },
    "9faa9c4e1f28499284de4f34430196bb": {
     "model_module": "@jupyter-widgets/base",
     "model_module_version": "1.2.0",
     "model_name": "LayoutModel",
     "state": {
      "_model_module": "@jupyter-widgets/base",
      "_model_module_version": "1.2.0",
      "_model_name": "LayoutModel",
      "_view_count": null,
      "_view_module": "@jupyter-widgets/base",
      "_view_module_version": "1.2.0",
      "_view_name": "LayoutView",
      "align_content": null,
      "align_items": null,
      "align_self": null,
      "border": null,
      "bottom": null,
      "display": null,
      "flex": null,
      "flex_flow": null,
      "grid_area": null,
      "grid_auto_columns": null,
      "grid_auto_flow": null,
      "grid_auto_rows": null,
      "grid_column": null,
      "grid_gap": null,
      "grid_row": null,
      "grid_template_areas": null,
      "grid_template_columns": null,
      "grid_template_rows": null,
      "height": null,
      "justify_content": null,
      "justify_items": null,
      "left": null,
      "margin": null,
      "max_height": null,
      "max_width": null,
      "min_height": null,
      "min_width": null,
      "object_fit": null,
      "object_position": null,
      "order": null,
      "overflow": null,
      "overflow_x": null,
      "overflow_y": null,
      "padding": null,
      "right": null,
      "top": null,
      "visibility": null,
      "width": null
     }
    },
    "bab86ec1f1dd43bd82b590670f655c78": {
     "model_module": "@jupyter-widgets/controls",
     "model_module_version": "1.5.0",
     "model_name": "LabelModel",
     "state": {
      "_dom_classes": [],
      "_model_module": "@jupyter-widgets/controls",
      "_model_module_version": "1.5.0",
      "_model_name": "LabelModel",
      "_view_count": null,
      "_view_module": "@jupyter-widgets/controls",
      "_view_module_version": "1.5.0",
      "_view_name": "LabelView",
      "description": "",
      "description_tooltip": null,
      "layout": "IPY_MODEL_9faa9c4e1f28499284de4f34430196bb",
      "placeholder": "​",
      "style": "IPY_MODEL_192bb62cafd04439977a5aae2623dafc",
      "value": "3.504 MB of 3.504 MB uploaded (0.000 MB deduped)\r"
     }
    },
    "c61c7c5dced6497fafb445b6dc02b924": {
     "model_module": "@jupyter-widgets/controls",
     "model_module_version": "1.5.0",
     "model_name": "VBoxModel",
     "state": {
      "_dom_classes": [],
      "_model_module": "@jupyter-widgets/controls",
      "_model_module_version": "1.5.0",
      "_model_name": "VBoxModel",
      "_view_count": null,
      "_view_module": "@jupyter-widgets/controls",
      "_view_module_version": "1.5.0",
      "_view_name": "VBoxView",
      "box_style": "",
      "children": [
       "IPY_MODEL_bab86ec1f1dd43bd82b590670f655c78",
       "IPY_MODEL_eb7cf200e87d492495bb796f0d167c9c"
      ],
      "layout": "IPY_MODEL_8a04be308f9841f090580659234b07d5"
     }
    },
    "d9bb9506eb64484f8daf429bc401e52a": {
     "model_module": "@jupyter-widgets/base",
     "model_module_version": "1.2.0",
     "model_name": "LayoutModel",
     "state": {
      "_model_module": "@jupyter-widgets/base",
      "_model_module_version": "1.2.0",
      "_model_name": "LayoutModel",
      "_view_count": null,
      "_view_module": "@jupyter-widgets/base",
      "_view_module_version": "1.2.0",
      "_view_name": "LayoutView",
      "align_content": null,
      "align_items": null,
      "align_self": null,
      "border": null,
      "bottom": null,
      "display": null,
      "flex": null,
      "flex_flow": null,
      "grid_area": null,
      "grid_auto_columns": null,
      "grid_auto_flow": null,
      "grid_auto_rows": null,
      "grid_column": null,
      "grid_gap": null,
      "grid_row": null,
      "grid_template_areas": null,
      "grid_template_columns": null,
      "grid_template_rows": null,
      "height": null,
      "justify_content": null,
      "justify_items": null,
      "left": null,
      "margin": null,
      "max_height": null,
      "max_width": null,
      "min_height": null,
      "min_width": null,
      "object_fit": null,
      "object_position": null,
      "order": null,
      "overflow": null,
      "overflow_x": null,
      "overflow_y": null,
      "padding": null,
      "right": null,
      "top": null,
      "visibility": null,
      "width": null
     }
    },
    "eb7cf200e87d492495bb796f0d167c9c": {
     "model_module": "@jupyter-widgets/controls",
     "model_module_version": "1.5.0",
     "model_name": "FloatProgressModel",
     "state": {
      "_dom_classes": [],
      "_model_module": "@jupyter-widgets/controls",
      "_model_module_version": "1.5.0",
      "_model_name": "FloatProgressModel",
      "_view_count": null,
      "_view_module": "@jupyter-widgets/controls",
      "_view_module_version": "1.5.0",
      "_view_name": "ProgressView",
      "bar_style": "",
      "description": "",
      "description_tooltip": null,
      "layout": "IPY_MODEL_d9bb9506eb64484f8daf429bc401e52a",
      "max": 1,
      "min": 0,
      "orientation": "horizontal",
      "style": "IPY_MODEL_8202cff179d449dc85671a02a516a1e5",
      "value": 0.9999823078365668
     }
    }
   }
  }
 },
 "nbformat": 4,
 "nbformat_minor": 1
}
